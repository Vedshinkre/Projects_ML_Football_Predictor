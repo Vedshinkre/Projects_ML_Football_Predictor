{
 "cells": [
  {
   "cell_type": "markdown",
   "id": "749dc7d2-5cf4-4d64-bb89-bce20b59fa2e",
   "metadata": {},
   "source": [
    "## Predictor Groups  \n",
    "\n",
    "### 1. Baseline Predictors (Static Factors)  \n",
    "The first group consists of fundamental predictors that are **easily accessible before a match** and have a significant impact on game results. These include:  \n",
    "\n",
    "- **Venue_code** – Encodes whether a team is playing home or away.  \n",
    "- **Opp_code** – Represents the opponent team.  \n",
    "- **Hour** – The match start time, which can influence player performance.  \n",
    "- **Day_code** – Encodes the day of the week, considering potential rest and preparation effects.  \n",
    "\n",
    "### 2. Rolling Averages (Performance-Based Predictors)  \n",
    "The second group expands on the first by integrating **rolling averages** of key performance indicators. These provide a **dynamic perspective** by capturing recent form and trends:  \n",
    "\n",
    "- **GF_rolling** – Rolling average of goals scored.  \n",
    "- **GA_rolling** – Rolling average of goals conceded.  \n",
    "- **Sh_rolling** – Rolling average of total shots taken.  \n",
    "- **SoT_rolling** – Rolling average of shots on target.  \n",
    "- **PK_rolling** – Rolling average of penalties scored.  \n",
    "- **PKatt_rolling** – Rolling average of penalty attempts.  \n",
    "\n",
    "### 3. Full Feature Set (Rank-Based Enhancement)  \n",
    "The third group includes **all previous predictors** while adding **ranking-based insights**, further refining predictive power:  \n",
    "\n",
    "- **Rank** – The FIFA club ranking of the team.  \n",
    "- **IsRanked** – A binary indicator of whether the team appears in FIFA club rankings.  \n",
    "\n",
    "By progressively incorporating these predictor groups, we aim to analyze their **individual and combined impacts** on match outcome prediction accuracy. This approach ensures a **structured and data-driven methodology**, balancing both static match conditions and dynamic team performance trends.  \n"
   ]
  },
  {
   "cell_type": "markdown",
   "id": "88605727-8c2a-4e32-a279-8dbb6d8999dd",
   "metadata": {},
   "source": [
    "## 1. Baseline Predictors (Static Factors)¶  \n",
    "\n",
    "Before using these predictors in our model, we need to **properly format and encode** them to ensure they are suitable for machine learning. The baseline predictors include **Venue_code, Opp_code, Hour, and Day_code**, which provide valuable pre-match context. These features influence match outcomes by capturing factors such as **home advantage, opponent strength, match timing, and scheduling effects**.  \n",
    "\n",
    "To enhance their utility, we will **convert categorical variables into numerical representations** where necessary, ensuring that our model can effectively process and analyze them. This structured approach lays the groundwork for incorporating more advanced predictors in later stages."
   ]
  },
  {
   "cell_type": "code",
   "execution_count": 1,
   "id": "5b7fb843-edec-4fa9-bea2-8de9d5bcfafc",
   "metadata": {},
   "outputs": [],
   "source": [
    "def process_data(matches, test_matches):\n",
    "    # Convert 'Date' column to datetime format\n",
    "    matches[\"Date\"] = pd.to_datetime(matches[\"Date\"])\n",
    "    test_matches[\"Date\"] = pd.to_datetime(test_matches[\"Date\"])\n",
    "\n",
    "    # Convert 'Venue' column to categorical codes for numerical processing\n",
    "    matches[\"Venue_code\"] = matches[\"Venue\"].astype(\"category\").cat.codes\n",
    "    test_matches[\"Venue_code\"] = test_matches[\"Venue\"].astype(\"category\").cat.codes\n",
    "\n",
    "    # Convert 'Opponent' column to categorical codes for numerical processing\n",
    "    matches[\"Opp_code\"] = matches[\"Opponent\"].astype(\"category\").cat.codes\n",
    "    test_matches[\"Opp_code\"] = test_matches[\"Opponent\"].astype(\"category\").cat.codes\n",
    "\n",
    "    # Extract the hour from the \"Time\" column and fill missing values with \"0\"\n",
    "    matches[\"Hour\"] = matches[\"Time\"].str.replace(\":.+\", \"\", regex=True).fillna(\"0\").astype(\"int\")\n",
    "    test_matches[\"Hour\"] = test_matches[\"Time\"].str.replace(\":.+\", \"\", regex=True).fillna(\"0\").astype(\"int\")\n",
    "\n",
    "    # Extract the day of the week from the \"Date\" column and assign as numerical code (0 = Monday, 6 = Sunday)\n",
    "    matches[\"Day_code\"] = matches[\"Date\"].dt.dayofweek\n",
    "    test_matches[\"Day_code\"] = test_matches[\"Date\"].dt.dayofweek\n",
    "\n",
    "    # Create the binary \"Target\" column where 1 represents a \"Win\" (W) and 0 otherwise\n",
    "    matches[\"Target\"] = (matches[\"Result\"] == \"W\").astype(\"int\")\n",
    "    test_matches[\"Target\"] = (test_matches[\"Result\"] == \"W\").astype(\"int\")\n"
   ]
  },
  {
   "cell_type": "markdown",
   "id": "b2448b38-c251-4555-b35b-d64d18fae16f",
   "metadata": {},
   "source": [
    "### 2. Rolling Averages (Performance-Based Predictors)¶  \n",
    "Before incorporating the rolling averages into our model, we will first calculate and format these performance-based features. These include rolling averages for goals scored, goals conceded, shots taken, and other key metrics. This preparation ensures that these dynamic indicators are ready for use, allowing us to capture recent team trends and form effectively."
   ]
  },
  {
   "cell_type": "code",
   "execution_count": 2,
   "id": "134e2ae9-e3ed-4f55-9a84-ae477a11d03e",
   "metadata": {},
   "outputs": [],
   "source": [
    "def rolling_averages(group, cols, new_cols):\n",
    "    # Sort the group by the \"Date\" column to ensure chronological order\n",
    "    group = group.sort_values(\"Date\")\n",
    "    \n",
    "    # Calculate rolling averages over a window of 3 rows, excluding the current row\n",
    "    # (e.g., for row N, it computes the average of rows N-1, N-2, and N-3)\n",
    "    rolling_stats = group[cols].rolling(3, closed='left').mean()\n",
    "    \n",
    "    # Assign the calculated rolling averages to new columns in the group\n",
    "    group[new_cols] = rolling_stats\n",
    "    \n",
    "    # Drop rows where the new rolling average columns contain NaN values\n",
    "    # (occurs when there aren't enough previous rows to calculate the average)\n",
    "    group = group.dropna(subset=new_cols)\n",
    "    \n",
    "    return group"
   ]
  },
  {
   "cell_type": "markdown",
   "id": "21532f10-cf9b-4ec3-964a-f3c1b079d009",
   "metadata": {},
   "source": [
    "### 3. Full Feature Set (Rank-Based Enhancement)¶  \n",
    "For the rank-based features, we will use the  **FIFA club rankings** data we have retrieved from their database andwill use them by encoding the team rankings and creating a binary indicator for whether a team is ranked. This allows us to include global performance data into our model, enhancing its predictive power with structured rank-based insights."
   ]
  },
  {
   "cell_type": "code",
   "execution_count": null,
   "id": "4ede01e4-ecac-4075-9258-0e9cc19366d2",
   "metadata": {},
   "outputs": [],
   "source": []
  },
  {
   "cell_type": "code",
   "execution_count": null,
   "id": "c13bb829-24fc-41f2-af5a-89e8b586ceee",
   "metadata": {},
   "outputs": [],
   "source": [
    "# Function to find optimal ccp_alpha\n",
    "def find_optimal_alpha(Train):\n",
    "    static_predictors = [\"Venue_code\", \"Opp_code\", \"Hour\", \"Day_code\"]\n",
    "    \n",
    "    dt = DecisionTreeClassifier(random_state=1)\n",
    "    path = dt.cost_complexity_pruning_path(Train[static_predictors], Train[\"Target\"])\n",
    "    ccp_alphas = path.ccp_alphas[:-1]  # Exclude the last value to avoid a single-node tree\n",
    "    \n",
    "    kf = KFold(n_splits=5, shuffle=True, random_state=1)\n",
    "    alpha_scores = {}\n",
    "    \n",
    "    for alpha in ccp_alphas:\n",
    "        dt = DecisionTreeClassifier(random_state=1, ccp_alpha=alpha)\n",
    "        scores = cross_val_score(dt, Train[static_predictors], Train[\"Target\"], cv=kf, scoring='accuracy')\n",
    "        alpha_scores[alpha] = np.mean(scores)\n",
    "    \n",
    "    best_alpha = max(alpha_scores, key=alpha_scores.get)\n",
    "    print(f\"Best ccp_alpha: {best_alpha:.6f} with Accuracy: {alpha_scores[best_alpha]:.4f}\")\n",
    "    return best_alpha\n"
   ]
  }
 ],
 "metadata": {
  "kernelspec": {
   "display_name": "Python 3 (ipykernel)",
   "language": "python",
   "name": "python3"
  },
  "language_info": {
   "codemirror_mode": {
    "name": "ipython",
    "version": 3
   },
   "file_extension": ".py",
   "mimetype": "text/x-python",
   "name": "python",
   "nbconvert_exporter": "python",
   "pygments_lexer": "ipython3",
   "version": "3.12.3"
  }
 },
 "nbformat": 4,
 "nbformat_minor": 5
}
