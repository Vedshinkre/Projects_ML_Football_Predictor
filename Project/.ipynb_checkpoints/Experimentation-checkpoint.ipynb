{
 "cells": [
  {
   "cell_type": "code",
   "execution_count": 53,
   "id": "26c5bd35-a7ee-4445-9d08-37387e708495",
   "metadata": {},
   "outputs": [],
   "source": [
    "# Importing required libraries\n",
    "import requests"
   ]
  },
  {
   "cell_type": "code",
   "execution_count": 54,
   "id": "557170bc-8b68-4170-bb19-b03ef9db3a2c",
   "metadata": {},
   "outputs": [],
   "source": [
    "from bs4 import BeautifulSoup"
   ]
  },
  {
   "cell_type": "code",
   "execution_count": 55,
   "id": "bd91a7af-b328-4622-9efb-ce82bf0356df",
   "metadata": {},
   "outputs": [
    {
     "name": "stdout",
     "output_type": "stream",
     "text": [
      "Requirement already satisfied: pandas in c:\\users\\vedsh\\miniconda3\\lib\\site-packages (2.2.3)\n",
      "Requirement already satisfied: numpy>=1.26.0 in c:\\users\\vedsh\\miniconda3\\lib\\site-packages (from pandas) (2.2.1)\n",
      "Requirement already satisfied: python-dateutil>=2.8.2 in c:\\users\\vedsh\\miniconda3\\lib\\site-packages (from pandas) (2.9.0)\n",
      "Requirement already satisfied: pytz>=2020.1 in c:\\users\\vedsh\\miniconda3\\lib\\site-packages (from pandas) (2024.2)\n",
      "Requirement already satisfied: tzdata>=2022.7 in c:\\users\\vedsh\\miniconda3\\lib\\site-packages (from pandas) (2024.2)\n",
      "Requirement already satisfied: six>=1.5 in c:\\users\\vedsh\\miniconda3\\lib\\site-packages (from python-dateutil>=2.8.2->pandas) (1.16.0)\n"
     ]
    }
   ],
   "source": [
    "!pip install pandas"
   ]
  },
  {
   "cell_type": "code",
   "execution_count": 56,
   "id": "699bb212-8bcc-45c9-a35d-68c7f0f2d3da",
   "metadata": {},
   "outputs": [
    {
     "name": "stdout",
     "output_type": "stream",
     "text": [
      "Requirement already satisfied: lxml in c:\\users\\vedsh\\miniconda3\\lib\\site-packages (5.3.0)\n",
      "Note: you may need to restart the kernel to use updated packages.\n"
     ]
    }
   ],
   "source": [
    "pip install lxml"
   ]
  },
  {
   "cell_type": "code",
   "execution_count": 57,
   "id": "5dbf67f7-a15e-45e3-8f20-353400f76f83",
   "metadata": {},
   "outputs": [
    {
     "name": "stdout",
     "output_type": "stream",
     "text": [
      "Requirement already satisfied: html5lib in c:\\users\\vedsh\\miniconda3\\lib\\site-packages (1.1)\n",
      "Requirement already satisfied: six>=1.9 in c:\\users\\vedsh\\miniconda3\\lib\\site-packages (from html5lib) (1.16.0)\n",
      "Requirement already satisfied: webencodings in c:\\users\\vedsh\\miniconda3\\lib\\site-packages (from html5lib) (0.5.1)\n",
      "Note: you may need to restart the kernel to use updated packages.\n"
     ]
    }
   ],
   "source": [
    "pip install html5lib"
   ]
  },
  {
   "cell_type": "code",
   "execution_count": 58,
   "id": "48707fe7-49a4-43e6-b541-013b6507a5ac",
   "metadata": {},
   "outputs": [],
   "source": [
    "import pandas as pd"
   ]
  },
  {
   "cell_type": "code",
   "execution_count": 5,
   "id": "cdcb1c00-eb20-45fd-a19e-06f482214c0f",
   "metadata": {},
   "outputs": [],
   "source": [
    "standings_url = \"https://fbref.com/en/comps/9/2017-2018/2017-2018-Premier-League-Stats\""
   ]
  },
  {
   "cell_type": "code",
   "execution_count": 6,
   "id": "c13639e6-b6d5-4a64-9735-55f1d36657d3",
   "metadata": {},
   "outputs": [],
   "source": [
    "# Fetching data from the specified URL\n",
    "data = requests.get(standings_url)"
   ]
  },
  {
   "cell_type": "code",
   "execution_count": 7,
   "id": "3cf719a3-7361-48da-ae33-c311257f613b",
   "metadata": {},
   "outputs": [],
   "source": [
    "# Parsing the fetched HTML content\n",
    "soup = BeautifulSoup(data.text)"
   ]
  },
  {
   "cell_type": "code",
   "execution_count": 8,
   "id": "8b2aeb6f-9faa-49d8-be64-b5cfc36001fb",
   "metadata": {},
   "outputs": [],
   "source": [
    "standings_table=soup.select('table.stats_table')[0]"
   ]
  },
  {
   "cell_type": "code",
   "execution_count": 10,
   "id": "ac7393c6-3871-41ce-9178-60819a709461",
   "metadata": {},
   "outputs": [],
   "source": [
    "links = standings_table.find_all('a')"
   ]
  },
  {
   "cell_type": "code",
   "execution_count": 11,
   "id": "541764ae-f37a-47ac-9588-f0940907cb2f",
   "metadata": {},
   "outputs": [],
   "source": [
    "links=[l.get(\"href\") for l in links]"
   ]
  },
  {
   "cell_type": "code",
   "execution_count": 12,
   "id": "7ea62d5f-a305-4dfc-a490-6b82e8d0cafa",
   "metadata": {},
   "outputs": [
    {
     "data": {
      "text/plain": [
       "['/en/squads/b8fd03ef/2017-2018/Manchester-City-Stats',\n",
       " '/en/players/4d034881/Sergio-Aguero',\n",
       " '/en/players/3bb7b8b4/Ederson',\n",
       " '/en/squads/19538871/2017-2018/Manchester-United-Stats',\n",
       " '/en/players/5eae500a/Romelu-Lukaku',\n",
       " '/en/players/7ba6d84e/David-de-Gea',\n",
       " '/en/squads/361ca564/2017-2018/Tottenham-Hotspur-Stats',\n",
       " '/en/players/21a66f6a/Harry-Kane',\n",
       " '/en/players/8f62b6ee/Hugo-Lloris',\n",
       " '/en/squads/822bd0ba/2017-2018/Liverpool-Stats',\n",
       " '/en/players/e342ad68/Mohamed-Salah',\n",
       " '/en/players/32e7ce92/Loris-Karius',\n",
       " '/en/players/d436eb94/Simon-Mignolet',\n",
       " '/en/squads/cff3d9bb/2017-2018/Chelsea-Stats',\n",
       " '/en/players/a39bb753/Eden-Hazard',\n",
       " '/en/players/1840e36d/Thibaut-Courtois',\n",
       " '/en/squads/18bb7c10/2017-2018/Arsenal-Stats',\n",
       " '/en/players/9dbb75ca/Alexandre-Lacazette',\n",
       " '/en/players/71672fa0/Petr-Cech',\n",
       " '/en/squads/943e8050/2017-2018/Burnley-Stats',\n",
       " '/en/players/4e9a0555/Chris-Wood',\n",
       " '/en/players/4b40d9ca/Nick-Pope',\n",
       " '/en/squads/d3fd31cc/2017-2018/Everton-Stats',\n",
       " '/en/players/f07be45a/Wayne-Rooney',\n",
       " '/en/players/4806ec67/Jordan-Pickford',\n",
       " '/en/squads/a2d435b3/2017-2018/Leicester-City-Stats',\n",
       " '/en/players/45963054/Jamie-Vardy',\n",
       " '/en/players/53af52f3/Kasper-Schmeichel',\n",
       " '/en/squads/b2b47a98/2017-2018/Newcastle-United-Stats',\n",
       " '/en/players/819aa8e7/Ayoze-Perez',\n",
       " '/en/players/b1b25949/Rob-Elliot',\n",
       " '/en/squads/47c64c55/2017-2018/Crystal-Palace-Stats',\n",
       " '/en/players/2ce2508a/Luka-Milivojevic',\n",
       " '/en/players/76eca7e2/Wayne-Hennessey',\n",
       " '/en/squads/4ba7cbea/2017-2018/Bournemouth-Stats',\n",
       " '/en/players/43458538/Joshua-King',\n",
       " '/en/players/c596fcb0/Callum-Wilson',\n",
       " '/en/players/7b4de647/Asmir-Begovic',\n",
       " '/en/squads/7c21e445/2017-2018/West-Ham-United-Stats',\n",
       " '/en/players/00459419/Marko-Arnautovic',\n",
       " '/en/players/cb4f24c6/Joe-Hart',\n",
       " '/en/players/f76e6b4e/Adrian',\n",
       " '/en/squads/2abfe087/2017-2018/Watford-Stats',\n",
       " '/en/players/02b29014/Abdoulaye-Doucoure',\n",
       " '/en/players/d596e193/Heurelho-Gomes',\n",
       " '/en/squads/d07537b9/2017-2018/Brighton-and-Hove-Albion-Stats',\n",
       " '/en/players/f2f29dda/Glenn-Murray',\n",
       " '/en/players/4535e4bb/Mathew-Ryan',\n",
       " '/en/squads/f5922ca5/2017-2018/Huddersfield-Town-Stats',\n",
       " '/en/players/19ba6c6d/Steve-Mounie',\n",
       " '/en/players/939bc634/Jonas-Lossl',\n",
       " '/en/squads/33c895d4/2017-2018/Southampton-Stats',\n",
       " '/en/players/8d228291/Charlie-Austin',\n",
       " '/en/players/c3e39f12/Fraser-Forster',\n",
       " '/en/squads/fb10988f/2017-2018/Swansea-City-Stats',\n",
       " '/en/players/da052c14/Jordan-Ayew',\n",
       " '/en/players/9328b835/Lukasz-Fabianski',\n",
       " '/en/squads/17892952/2017-2018/Stoke-City-Stats',\n",
       " '/en/players/6421ec64/Xherdan-Shaqiri',\n",
       " '/en/players/cc70a1d5/Jack-Butland',\n",
       " '/en/squads/60c6b05f/2017-2018/West-Bromwich-Albion-Stats',\n",
       " '/en/players/4ab53cdb/Jay-Rodriguez',\n",
       " '/en/players/b318a643/Salomon-Rondon',\n",
       " '/en/players/d0b3ceb9/Ben-Foster']"
      ]
     },
     "execution_count": 12,
     "metadata": {},
     "output_type": "execute_result"
    }
   ],
   "source": [
    "links"
   ]
  },
  {
   "cell_type": "code",
   "execution_count": 13,
   "id": "6c6ca4dc-71b7-42f2-bb8a-12388f10788a",
   "metadata": {},
   "outputs": [],
   "source": [
    "links= [l for l in links if '/squads/' in l]"
   ]
  },
  {
   "cell_type": "code",
   "execution_count": 14,
   "id": "27a9af86-ab2d-41e7-b7cc-9afe85dd99e6",
   "metadata": {},
   "outputs": [
    {
     "data": {
      "text/plain": [
       "['/en/squads/b8fd03ef/2017-2018/Manchester-City-Stats',\n",
       " '/en/squads/19538871/2017-2018/Manchester-United-Stats',\n",
       " '/en/squads/361ca564/2017-2018/Tottenham-Hotspur-Stats',\n",
       " '/en/squads/822bd0ba/2017-2018/Liverpool-Stats',\n",
       " '/en/squads/cff3d9bb/2017-2018/Chelsea-Stats',\n",
       " '/en/squads/18bb7c10/2017-2018/Arsenal-Stats',\n",
       " '/en/squads/943e8050/2017-2018/Burnley-Stats',\n",
       " '/en/squads/d3fd31cc/2017-2018/Everton-Stats',\n",
       " '/en/squads/a2d435b3/2017-2018/Leicester-City-Stats',\n",
       " '/en/squads/b2b47a98/2017-2018/Newcastle-United-Stats',\n",
       " '/en/squads/47c64c55/2017-2018/Crystal-Palace-Stats',\n",
       " '/en/squads/4ba7cbea/2017-2018/Bournemouth-Stats',\n",
       " '/en/squads/7c21e445/2017-2018/West-Ham-United-Stats',\n",
       " '/en/squads/2abfe087/2017-2018/Watford-Stats',\n",
       " '/en/squads/d07537b9/2017-2018/Brighton-and-Hove-Albion-Stats',\n",
       " '/en/squads/f5922ca5/2017-2018/Huddersfield-Town-Stats',\n",
       " '/en/squads/33c895d4/2017-2018/Southampton-Stats',\n",
       " '/en/squads/fb10988f/2017-2018/Swansea-City-Stats',\n",
       " '/en/squads/17892952/2017-2018/Stoke-City-Stats',\n",
       " '/en/squads/60c6b05f/2017-2018/West-Bromwich-Albion-Stats']"
      ]
     },
     "execution_count": 14,
     "metadata": {},
     "output_type": "execute_result"
    }
   ],
   "source": [
    "links"
   ]
  },
  {
   "cell_type": "code",
   "execution_count": 15,
   "id": "fd3a47cd-f9e6-4c1a-a65f-bcf7f4c613d3",
   "metadata": {},
   "outputs": [],
   "source": [
    "team_urls = [f\"https://fbref.com{l}\" for l in links]"
   ]
  },
  {
   "cell_type": "code",
   "execution_count": 16,
   "id": "65e659b4-fef6-4fdc-ba44-c027da2965b8",
   "metadata": {},
   "outputs": [
    {
     "data": {
      "text/plain": [
       "['https://fbref.com/en/squads/b8fd03ef/2017-2018/Manchester-City-Stats',\n",
       " 'https://fbref.com/en/squads/19538871/2017-2018/Manchester-United-Stats',\n",
       " 'https://fbref.com/en/squads/361ca564/2017-2018/Tottenham-Hotspur-Stats',\n",
       " 'https://fbref.com/en/squads/822bd0ba/2017-2018/Liverpool-Stats',\n",
       " 'https://fbref.com/en/squads/cff3d9bb/2017-2018/Chelsea-Stats',\n",
       " 'https://fbref.com/en/squads/18bb7c10/2017-2018/Arsenal-Stats',\n",
       " 'https://fbref.com/en/squads/943e8050/2017-2018/Burnley-Stats',\n",
       " 'https://fbref.com/en/squads/d3fd31cc/2017-2018/Everton-Stats',\n",
       " 'https://fbref.com/en/squads/a2d435b3/2017-2018/Leicester-City-Stats',\n",
       " 'https://fbref.com/en/squads/b2b47a98/2017-2018/Newcastle-United-Stats',\n",
       " 'https://fbref.com/en/squads/47c64c55/2017-2018/Crystal-Palace-Stats',\n",
       " 'https://fbref.com/en/squads/4ba7cbea/2017-2018/Bournemouth-Stats',\n",
       " 'https://fbref.com/en/squads/7c21e445/2017-2018/West-Ham-United-Stats',\n",
       " 'https://fbref.com/en/squads/2abfe087/2017-2018/Watford-Stats',\n",
       " 'https://fbref.com/en/squads/d07537b9/2017-2018/Brighton-and-Hove-Albion-Stats',\n",
       " 'https://fbref.com/en/squads/f5922ca5/2017-2018/Huddersfield-Town-Stats',\n",
       " 'https://fbref.com/en/squads/33c895d4/2017-2018/Southampton-Stats',\n",
       " 'https://fbref.com/en/squads/fb10988f/2017-2018/Swansea-City-Stats',\n",
       " 'https://fbref.com/en/squads/17892952/2017-2018/Stoke-City-Stats',\n",
       " 'https://fbref.com/en/squads/60c6b05f/2017-2018/West-Bromwich-Albion-Stats']"
      ]
     },
     "execution_count": 16,
     "metadata": {},
     "output_type": "execute_result"
    }
   ],
   "source": [
    "team_urls"
   ]
  },
  {
   "cell_type": "code",
   "execution_count": 17,
   "id": "95b25a8b-b860-4607-88f9-b5a2e9addcdf",
   "metadata": {},
   "outputs": [],
   "source": [
    "team_url= team_urls[0]"
   ]
  },
  {
   "cell_type": "code",
   "execution_count": 18,
   "id": "47ad9b71-d166-4090-bd78-1901836b8698",
   "metadata": {},
   "outputs": [
    {
     "data": {
      "text/plain": [
       "'https://fbref.com/en/squads/b8fd03ef/2017-2018/Manchester-City-Stats'"
      ]
     },
     "execution_count": 18,
     "metadata": {},
     "output_type": "execute_result"
    }
   ],
   "source": [
    "team_url"
   ]
  },
  {
   "cell_type": "code",
   "execution_count": 22,
   "id": "0c6e9dcb-6a44-4b53-83e8-35a4ee59fac2",
   "metadata": {},
   "outputs": [],
   "source": [
    "# Fetching data from the specified URL#\n",
    "data= requests.get(team_url)"
   ]
  },
  {
   "cell_type": "code",
   "execution_count": 23,
   "id": "6d6c5f2e-9599-400e-bed3-7648a78fd2d3",
   "metadata": {},
   "outputs": [],
   "source": [
    "from io import StringIO"
   ]
  },
  {
   "cell_type": "code",
   "execution_count": 24,
   "id": "50ff264f-1b30-4bc9-8927-9d06b73e76fe",
   "metadata": {},
   "outputs": [],
   "source": [
    "html_content = StringIO(data.text)"
   ]
  },
  {
   "cell_type": "code",
   "execution_count": 25,
   "id": "64fa4c11-3b6a-4e32-9956-f27b985abfa0",
   "metadata": {},
   "outputs": [],
   "source": [
    "matches = pd.read_html(html_content, match=\"Scores & Fixtures\")"
   ]
  },
  {
   "cell_type": "code",
   "execution_count": 26,
   "id": "2b75179d-dc17-4fc0-9eb9-e671c134ed66",
   "metadata": {},
   "outputs": [],
   "source": [
    "soup = BeautifulSoup(data.text)"
   ]
  },
  {
   "cell_type": "code",
   "execution_count": 29,
   "id": "5fc0fa2c-3881-403c-9119-e82482db8a12",
   "metadata": {},
   "outputs": [],
   "source": [
    "links = soup.find_all('a')"
   ]
  },
  {
   "cell_type": "code",
   "execution_count": 30,
   "id": "f9df891d-21c1-4aeb-9849-48c8c5bc79f3",
   "metadata": {},
   "outputs": [],
   "source": [
    "links = [l.get(\"href\") for l in links]"
   ]
  },
  {
   "cell_type": "code",
   "execution_count": 31,
   "id": "35f1d4ca-24a5-4d8e-814e-03334b3a156d",
   "metadata": {},
   "outputs": [],
   "source": [
    "links = [ l for l in links if l and 'all_comps/shooting/' in l ]"
   ]
  },
  {
   "cell_type": "code",
   "execution_count": 32,
   "id": "48eed959-8327-42b5-8300-293af676f9fb",
   "metadata": {},
   "outputs": [
    {
     "data": {
      "text/plain": [
       "['/en/squads/b8fd03ef/2017-2018/matchlogs/all_comps/shooting/Manchester-City-Match-Logs-All-Competitions',\n",
       " '/en/squads/b8fd03ef/2017-2018/matchlogs/all_comps/shooting/Manchester-City-Match-Logs-All-Competitions',\n",
       " '/en/squads/b8fd03ef/2017-2018/matchlogs/all_comps/shooting/Manchester-City-Match-Logs-All-Competitions',\n",
       " '/en/squads/b8fd03ef/2017-2018/matchlogs/all_comps/shooting/Manchester-City-Match-Logs-All-Competitions']"
      ]
     },
     "execution_count": 32,
     "metadata": {},
     "output_type": "execute_result"
    }
   ],
   "source": [
    "links"
   ]
  },
  {
   "cell_type": "code",
   "execution_count": 33,
   "id": "c49d63b8-654b-42ae-8366-f52afc609505",
   "metadata": {},
   "outputs": [],
   "source": [
    "data = requests.get(f\"https://fbref.com{links[0]}\")"
   ]
  },
  {
   "cell_type": "code",
   "execution_count": 34,
   "id": "218b1e09-ab52-4b69-b651-bda55cae7cfa",
   "metadata": {},
   "outputs": [],
   "source": [
    "html_content_new = StringIO(data.text)"
   ]
  },
  {
   "cell_type": "code",
   "execution_count": 35,
   "id": "c7ea730f-4859-4087-9036-d9a2782f43a7",
   "metadata": {},
   "outputs": [],
   "source": [
    "shooting = pd.read_html(html_content_new, match = \"Shooting\")[0]"
   ]
  },
  {
   "cell_type": "code",
   "execution_count": 36,
   "id": "4d6a17b9-a3d3-45aa-b1f0-6bb16dc136e2",
   "metadata": {},
   "outputs": [
    {
     "data": {
      "text/html": [
       "<div>\n",
       "<style scoped>\n",
       "    .dataframe tbody tr th:only-of-type {\n",
       "        vertical-align: middle;\n",
       "    }\n",
       "\n",
       "    .dataframe tbody tr th {\n",
       "        vertical-align: top;\n",
       "    }\n",
       "\n",
       "    .dataframe thead tr th {\n",
       "        text-align: left;\n",
       "    }\n",
       "</style>\n",
       "<table border=\"1\" class=\"dataframe\">\n",
       "  <thead>\n",
       "    <tr>\n",
       "      <th></th>\n",
       "      <th colspan=\"10\" halign=\"left\">For Manchester City</th>\n",
       "      <th>...</th>\n",
       "      <th colspan=\"4\" halign=\"left\">Standard</th>\n",
       "      <th colspan=\"5\" halign=\"left\">Expected</th>\n",
       "      <th>Unnamed: 25_level_0</th>\n",
       "    </tr>\n",
       "    <tr>\n",
       "      <th></th>\n",
       "      <th>Date</th>\n",
       "      <th>Time</th>\n",
       "      <th>Comp</th>\n",
       "      <th>Round</th>\n",
       "      <th>Day</th>\n",
       "      <th>Venue</th>\n",
       "      <th>Result</th>\n",
       "      <th>GF</th>\n",
       "      <th>GA</th>\n",
       "      <th>Opponent</th>\n",
       "      <th>...</th>\n",
       "      <th>Dist</th>\n",
       "      <th>FK</th>\n",
       "      <th>PK</th>\n",
       "      <th>PKatt</th>\n",
       "      <th>xG</th>\n",
       "      <th>npxG</th>\n",
       "      <th>npxG/Sh</th>\n",
       "      <th>G-xG</th>\n",
       "      <th>np:G-xG</th>\n",
       "      <th>Match Report</th>\n",
       "    </tr>\n",
       "  </thead>\n",
       "  <tbody>\n",
       "    <tr>\n",
       "      <th>0</th>\n",
       "      <td>2017-08-12</td>\n",
       "      <td>17:30</td>\n",
       "      <td>Premier League</td>\n",
       "      <td>Matchweek 1</td>\n",
       "      <td>Sat</td>\n",
       "      <td>Away</td>\n",
       "      <td>W</td>\n",
       "      <td>2</td>\n",
       "      <td>0</td>\n",
       "      <td>Brighton</td>\n",
       "      <td>...</td>\n",
       "      <td>19.5</td>\n",
       "      <td>2.0</td>\n",
       "      <td>0</td>\n",
       "      <td>0</td>\n",
       "      <td>1.9</td>\n",
       "      <td>1.9</td>\n",
       "      <td>0.17</td>\n",
       "      <td>-0.9</td>\n",
       "      <td>-0.9</td>\n",
       "      <td>Match Report</td>\n",
       "    </tr>\n",
       "    <tr>\n",
       "      <th>1</th>\n",
       "      <td>2017-08-21</td>\n",
       "      <td>20:00</td>\n",
       "      <td>Premier League</td>\n",
       "      <td>Matchweek 2</td>\n",
       "      <td>Mon</td>\n",
       "      <td>Home</td>\n",
       "      <td>D</td>\n",
       "      <td>1</td>\n",
       "      <td>1</td>\n",
       "      <td>Everton</td>\n",
       "      <td>...</td>\n",
       "      <td>20.0</td>\n",
       "      <td>1.0</td>\n",
       "      <td>0</td>\n",
       "      <td>0</td>\n",
       "      <td>1.1</td>\n",
       "      <td>1.1</td>\n",
       "      <td>0.06</td>\n",
       "      <td>-0.1</td>\n",
       "      <td>-0.1</td>\n",
       "      <td>Match Report</td>\n",
       "    </tr>\n",
       "    <tr>\n",
       "      <th>2</th>\n",
       "      <td>2017-08-26</td>\n",
       "      <td>12:30</td>\n",
       "      <td>Premier League</td>\n",
       "      <td>Matchweek 3</td>\n",
       "      <td>Sat</td>\n",
       "      <td>Away</td>\n",
       "      <td>W</td>\n",
       "      <td>2</td>\n",
       "      <td>1</td>\n",
       "      <td>Bournemouth</td>\n",
       "      <td>...</td>\n",
       "      <td>16.2</td>\n",
       "      <td>1.0</td>\n",
       "      <td>0</td>\n",
       "      <td>0</td>\n",
       "      <td>1.4</td>\n",
       "      <td>1.4</td>\n",
       "      <td>0.08</td>\n",
       "      <td>0.6</td>\n",
       "      <td>0.6</td>\n",
       "      <td>Match Report</td>\n",
       "    </tr>\n",
       "    <tr>\n",
       "      <th>3</th>\n",
       "      <td>2017-09-09</td>\n",
       "      <td>12:30</td>\n",
       "      <td>Premier League</td>\n",
       "      <td>Matchweek 4</td>\n",
       "      <td>Sat</td>\n",
       "      <td>Home</td>\n",
       "      <td>W</td>\n",
       "      <td>5</td>\n",
       "      <td>0</td>\n",
       "      <td>Liverpool</td>\n",
       "      <td>...</td>\n",
       "      <td>14.0</td>\n",
       "      <td>0.0</td>\n",
       "      <td>0</td>\n",
       "      <td>0</td>\n",
       "      <td>2.4</td>\n",
       "      <td>2.4</td>\n",
       "      <td>0.18</td>\n",
       "      <td>2.6</td>\n",
       "      <td>2.6</td>\n",
       "      <td>Match Report</td>\n",
       "    </tr>\n",
       "    <tr>\n",
       "      <th>4</th>\n",
       "      <td>2017-09-13</td>\n",
       "      <td>20:45</td>\n",
       "      <td>Champions Lg</td>\n",
       "      <td>Group stage</td>\n",
       "      <td>Wed</td>\n",
       "      <td>Away</td>\n",
       "      <td>W</td>\n",
       "      <td>4</td>\n",
       "      <td>0</td>\n",
       "      <td>nl Feyenoord</td>\n",
       "      <td>...</td>\n",
       "      <td>14.4</td>\n",
       "      <td>0.0</td>\n",
       "      <td>0</td>\n",
       "      <td>0</td>\n",
       "      <td>1.3</td>\n",
       "      <td>1.3</td>\n",
       "      <td>0.12</td>\n",
       "      <td>2.7</td>\n",
       "      <td>2.7</td>\n",
       "      <td>Match Report</td>\n",
       "    </tr>\n",
       "  </tbody>\n",
       "</table>\n",
       "<p>5 rows × 26 columns</p>\n",
       "</div>"
      ],
      "text/plain": [
       "  For Manchester City                                                        \\\n",
       "                 Date   Time            Comp        Round  Day Venue Result   \n",
       "0          2017-08-12  17:30  Premier League  Matchweek 1  Sat  Away      W   \n",
       "1          2017-08-21  20:00  Premier League  Matchweek 2  Mon  Home      D   \n",
       "2          2017-08-26  12:30  Premier League  Matchweek 3  Sat  Away      W   \n",
       "3          2017-09-09  12:30  Premier League  Matchweek 4  Sat  Home      W   \n",
       "4          2017-09-13  20:45    Champions Lg  Group stage  Wed  Away      W   \n",
       "\n",
       "                       ... Standard               Expected                    \\\n",
       "  GF GA      Opponent  ...     Dist   FK PK PKatt       xG npxG npxG/Sh G-xG   \n",
       "0  2  0      Brighton  ...     19.5  2.0  0     0      1.9  1.9    0.17 -0.9   \n",
       "1  1  1       Everton  ...     20.0  1.0  0     0      1.1  1.1    0.06 -0.1   \n",
       "2  2  1   Bournemouth  ...     16.2  1.0  0     0      1.4  1.4    0.08  0.6   \n",
       "3  5  0     Liverpool  ...     14.0  0.0  0     0      2.4  2.4    0.18  2.6   \n",
       "4  4  0  nl Feyenoord  ...     14.4  0.0  0     0      1.3  1.3    0.12  2.7   \n",
       "\n",
       "          Unnamed: 25_level_0  \n",
       "  np:G-xG        Match Report  \n",
       "0    -0.9        Match Report  \n",
       "1    -0.1        Match Report  \n",
       "2     0.6        Match Report  \n",
       "3     2.6        Match Report  \n",
       "4     2.7        Match Report  \n",
       "\n",
       "[5 rows x 26 columns]"
      ]
     },
     "execution_count": 36,
     "metadata": {},
     "output_type": "execute_result"
    }
   ],
   "source": [
    "shooting.head()"
   ]
  },
  {
   "cell_type": "code",
   "execution_count": 37,
   "id": "0c4ee7f1-1a9b-4301-b0ba-43b536811d55",
   "metadata": {},
   "outputs": [],
   "source": [
    "shooting.columns = shooting.columns.droplevel()"
   ]
  },
  {
   "cell_type": "code",
   "execution_count": 38,
   "id": "88c05198-7477-40ae-8726-1a52c3817acd",
   "metadata": {},
   "outputs": [
    {
     "data": {
      "text/html": [
       "<div>\n",
       "<style scoped>\n",
       "    .dataframe tbody tr th:only-of-type {\n",
       "        vertical-align: middle;\n",
       "    }\n",
       "\n",
       "    .dataframe tbody tr th {\n",
       "        vertical-align: top;\n",
       "    }\n",
       "\n",
       "    .dataframe thead th {\n",
       "        text-align: right;\n",
       "    }\n",
       "</style>\n",
       "<table border=\"1\" class=\"dataframe\">\n",
       "  <thead>\n",
       "    <tr style=\"text-align: right;\">\n",
       "      <th></th>\n",
       "      <th>Date</th>\n",
       "      <th>Time</th>\n",
       "      <th>Comp</th>\n",
       "      <th>Round</th>\n",
       "      <th>Day</th>\n",
       "      <th>Venue</th>\n",
       "      <th>Result</th>\n",
       "      <th>GF</th>\n",
       "      <th>GA</th>\n",
       "      <th>Opponent</th>\n",
       "      <th>...</th>\n",
       "      <th>Dist</th>\n",
       "      <th>FK</th>\n",
       "      <th>PK</th>\n",
       "      <th>PKatt</th>\n",
       "      <th>xG</th>\n",
       "      <th>npxG</th>\n",
       "      <th>npxG/Sh</th>\n",
       "      <th>G-xG</th>\n",
       "      <th>np:G-xG</th>\n",
       "      <th>Match Report</th>\n",
       "    </tr>\n",
       "  </thead>\n",
       "  <tbody>\n",
       "    <tr>\n",
       "      <th>0</th>\n",
       "      <td>2017-08-12</td>\n",
       "      <td>17:30</td>\n",
       "      <td>Premier League</td>\n",
       "      <td>Matchweek 1</td>\n",
       "      <td>Sat</td>\n",
       "      <td>Away</td>\n",
       "      <td>W</td>\n",
       "      <td>2</td>\n",
       "      <td>0</td>\n",
       "      <td>Brighton</td>\n",
       "      <td>...</td>\n",
       "      <td>19.5</td>\n",
       "      <td>2.0</td>\n",
       "      <td>0</td>\n",
       "      <td>0</td>\n",
       "      <td>1.9</td>\n",
       "      <td>1.9</td>\n",
       "      <td>0.17</td>\n",
       "      <td>-0.9</td>\n",
       "      <td>-0.9</td>\n",
       "      <td>Match Report</td>\n",
       "    </tr>\n",
       "    <tr>\n",
       "      <th>1</th>\n",
       "      <td>2017-08-21</td>\n",
       "      <td>20:00</td>\n",
       "      <td>Premier League</td>\n",
       "      <td>Matchweek 2</td>\n",
       "      <td>Mon</td>\n",
       "      <td>Home</td>\n",
       "      <td>D</td>\n",
       "      <td>1</td>\n",
       "      <td>1</td>\n",
       "      <td>Everton</td>\n",
       "      <td>...</td>\n",
       "      <td>20.0</td>\n",
       "      <td>1.0</td>\n",
       "      <td>0</td>\n",
       "      <td>0</td>\n",
       "      <td>1.1</td>\n",
       "      <td>1.1</td>\n",
       "      <td>0.06</td>\n",
       "      <td>-0.1</td>\n",
       "      <td>-0.1</td>\n",
       "      <td>Match Report</td>\n",
       "    </tr>\n",
       "    <tr>\n",
       "      <th>2</th>\n",
       "      <td>2017-08-26</td>\n",
       "      <td>12:30</td>\n",
       "      <td>Premier League</td>\n",
       "      <td>Matchweek 3</td>\n",
       "      <td>Sat</td>\n",
       "      <td>Away</td>\n",
       "      <td>W</td>\n",
       "      <td>2</td>\n",
       "      <td>1</td>\n",
       "      <td>Bournemouth</td>\n",
       "      <td>...</td>\n",
       "      <td>16.2</td>\n",
       "      <td>1.0</td>\n",
       "      <td>0</td>\n",
       "      <td>0</td>\n",
       "      <td>1.4</td>\n",
       "      <td>1.4</td>\n",
       "      <td>0.08</td>\n",
       "      <td>0.6</td>\n",
       "      <td>0.6</td>\n",
       "      <td>Match Report</td>\n",
       "    </tr>\n",
       "    <tr>\n",
       "      <th>3</th>\n",
       "      <td>2017-09-09</td>\n",
       "      <td>12:30</td>\n",
       "      <td>Premier League</td>\n",
       "      <td>Matchweek 4</td>\n",
       "      <td>Sat</td>\n",
       "      <td>Home</td>\n",
       "      <td>W</td>\n",
       "      <td>5</td>\n",
       "      <td>0</td>\n",
       "      <td>Liverpool</td>\n",
       "      <td>...</td>\n",
       "      <td>14.0</td>\n",
       "      <td>0.0</td>\n",
       "      <td>0</td>\n",
       "      <td>0</td>\n",
       "      <td>2.4</td>\n",
       "      <td>2.4</td>\n",
       "      <td>0.18</td>\n",
       "      <td>2.6</td>\n",
       "      <td>2.6</td>\n",
       "      <td>Match Report</td>\n",
       "    </tr>\n",
       "    <tr>\n",
       "      <th>4</th>\n",
       "      <td>2017-09-13</td>\n",
       "      <td>20:45</td>\n",
       "      <td>Champions Lg</td>\n",
       "      <td>Group stage</td>\n",
       "      <td>Wed</td>\n",
       "      <td>Away</td>\n",
       "      <td>W</td>\n",
       "      <td>4</td>\n",
       "      <td>0</td>\n",
       "      <td>nl Feyenoord</td>\n",
       "      <td>...</td>\n",
       "      <td>14.4</td>\n",
       "      <td>0.0</td>\n",
       "      <td>0</td>\n",
       "      <td>0</td>\n",
       "      <td>1.3</td>\n",
       "      <td>1.3</td>\n",
       "      <td>0.12</td>\n",
       "      <td>2.7</td>\n",
       "      <td>2.7</td>\n",
       "      <td>Match Report</td>\n",
       "    </tr>\n",
       "  </tbody>\n",
       "</table>\n",
       "<p>5 rows × 26 columns</p>\n",
       "</div>"
      ],
      "text/plain": [
       "         Date   Time            Comp        Round  Day Venue Result GF GA  \\\n",
       "0  2017-08-12  17:30  Premier League  Matchweek 1  Sat  Away      W  2  0   \n",
       "1  2017-08-21  20:00  Premier League  Matchweek 2  Mon  Home      D  1  1   \n",
       "2  2017-08-26  12:30  Premier League  Matchweek 3  Sat  Away      W  2  1   \n",
       "3  2017-09-09  12:30  Premier League  Matchweek 4  Sat  Home      W  5  0   \n",
       "4  2017-09-13  20:45    Champions Lg  Group stage  Wed  Away      W  4  0   \n",
       "\n",
       "       Opponent  ...  Dist   FK  PK  PKatt   xG  npxG  npxG/Sh  G-xG  np:G-xG  \\\n",
       "0      Brighton  ...  19.5  2.0   0      0  1.9   1.9     0.17  -0.9     -0.9   \n",
       "1       Everton  ...  20.0  1.0   0      0  1.1   1.1     0.06  -0.1     -0.1   \n",
       "2   Bournemouth  ...  16.2  1.0   0      0  1.4   1.4     0.08   0.6      0.6   \n",
       "3     Liverpool  ...  14.0  0.0   0      0  2.4   2.4     0.18   2.6      2.6   \n",
       "4  nl Feyenoord  ...  14.4  0.0   0      0  1.3   1.3     0.12   2.7      2.7   \n",
       "\n",
       "   Match Report  \n",
       "0  Match Report  \n",
       "1  Match Report  \n",
       "2  Match Report  \n",
       "3  Match Report  \n",
       "4  Match Report  \n",
       "\n",
       "[5 rows x 26 columns]"
      ]
     },
     "execution_count": 38,
     "metadata": {},
     "output_type": "execute_result"
    }
   ],
   "source": [
    "shooting.head()"
   ]
  },
  {
   "cell_type": "code",
   "execution_count": 39,
   "id": "f590df37-caed-4e7e-8e03-7ed24a9ebd70",
   "metadata": {},
   "outputs": [],
   "source": [
    "team_data = matches[0].merge(shooting[[\"Date\",\"Sh\",\"SoT\",\"Dist\",\"FK\",\"PK\",\"PKatt\"]] , on = \"Date\")"
   ]
  },
  {
   "cell_type": "code",
   "execution_count": 40,
   "id": "762d8d10-960f-4e48-91fa-0239ba27bf5a",
   "metadata": {},
   "outputs": [
    {
     "data": {
      "text/html": [
       "<div>\n",
       "<style scoped>\n",
       "    .dataframe tbody tr th:only-of-type {\n",
       "        vertical-align: middle;\n",
       "    }\n",
       "\n",
       "    .dataframe tbody tr th {\n",
       "        vertical-align: top;\n",
       "    }\n",
       "\n",
       "    .dataframe thead th {\n",
       "        text-align: right;\n",
       "    }\n",
       "</style>\n",
       "<table border=\"1\" class=\"dataframe\">\n",
       "  <thead>\n",
       "    <tr style=\"text-align: right;\">\n",
       "      <th></th>\n",
       "      <th>Date</th>\n",
       "      <th>Time</th>\n",
       "      <th>Comp</th>\n",
       "      <th>Round</th>\n",
       "      <th>Day</th>\n",
       "      <th>Venue</th>\n",
       "      <th>Result</th>\n",
       "      <th>GF</th>\n",
       "      <th>GA</th>\n",
       "      <th>Opponent</th>\n",
       "      <th>...</th>\n",
       "      <th>Opp Formation</th>\n",
       "      <th>Referee</th>\n",
       "      <th>Match Report</th>\n",
       "      <th>Notes</th>\n",
       "      <th>Sh</th>\n",
       "      <th>SoT</th>\n",
       "      <th>Dist</th>\n",
       "      <th>FK</th>\n",
       "      <th>PK</th>\n",
       "      <th>PKatt</th>\n",
       "    </tr>\n",
       "  </thead>\n",
       "  <tbody>\n",
       "    <tr>\n",
       "      <th>0</th>\n",
       "      <td>2017-08-12</td>\n",
       "      <td>17:30</td>\n",
       "      <td>Premier League</td>\n",
       "      <td>Matchweek 1</td>\n",
       "      <td>Sat</td>\n",
       "      <td>Away</td>\n",
       "      <td>W</td>\n",
       "      <td>2</td>\n",
       "      <td>0</td>\n",
       "      <td>Brighton</td>\n",
       "      <td>...</td>\n",
       "      <td>4-4-2</td>\n",
       "      <td>Michael Oliver</td>\n",
       "      <td>Match Report</td>\n",
       "      <td>NaN</td>\n",
       "      <td>14</td>\n",
       "      <td>4</td>\n",
       "      <td>19.5</td>\n",
       "      <td>2.0</td>\n",
       "      <td>0</td>\n",
       "      <td>0</td>\n",
       "    </tr>\n",
       "    <tr>\n",
       "      <th>1</th>\n",
       "      <td>2017-08-21</td>\n",
       "      <td>20:00</td>\n",
       "      <td>Premier League</td>\n",
       "      <td>Matchweek 2</td>\n",
       "      <td>Mon</td>\n",
       "      <td>Home</td>\n",
       "      <td>D</td>\n",
       "      <td>1</td>\n",
       "      <td>1</td>\n",
       "      <td>Everton</td>\n",
       "      <td>...</td>\n",
       "      <td>3-5-2</td>\n",
       "      <td>Robert Madley</td>\n",
       "      <td>Match Report</td>\n",
       "      <td>NaN</td>\n",
       "      <td>19</td>\n",
       "      <td>6</td>\n",
       "      <td>20.0</td>\n",
       "      <td>1.0</td>\n",
       "      <td>0</td>\n",
       "      <td>0</td>\n",
       "    </tr>\n",
       "    <tr>\n",
       "      <th>2</th>\n",
       "      <td>2017-08-26</td>\n",
       "      <td>12:30</td>\n",
       "      <td>Premier League</td>\n",
       "      <td>Matchweek 3</td>\n",
       "      <td>Sat</td>\n",
       "      <td>Away</td>\n",
       "      <td>W</td>\n",
       "      <td>2</td>\n",
       "      <td>1</td>\n",
       "      <td>Bournemouth</td>\n",
       "      <td>...</td>\n",
       "      <td>5-3-2</td>\n",
       "      <td>Mike Dean</td>\n",
       "      <td>Match Report</td>\n",
       "      <td>NaN</td>\n",
       "      <td>19</td>\n",
       "      <td>8</td>\n",
       "      <td>16.2</td>\n",
       "      <td>1.0</td>\n",
       "      <td>0</td>\n",
       "      <td>0</td>\n",
       "    </tr>\n",
       "    <tr>\n",
       "      <th>3</th>\n",
       "      <td>2017-09-09</td>\n",
       "      <td>12:30</td>\n",
       "      <td>Premier League</td>\n",
       "      <td>Matchweek 4</td>\n",
       "      <td>Sat</td>\n",
       "      <td>Home</td>\n",
       "      <td>W</td>\n",
       "      <td>5</td>\n",
       "      <td>0</td>\n",
       "      <td>Liverpool</td>\n",
       "      <td>...</td>\n",
       "      <td>4-3-3</td>\n",
       "      <td>Jonathan Moss</td>\n",
       "      <td>Match Report</td>\n",
       "      <td>NaN</td>\n",
       "      <td>13</td>\n",
       "      <td>10</td>\n",
       "      <td>14.0</td>\n",
       "      <td>0.0</td>\n",
       "      <td>0</td>\n",
       "      <td>0</td>\n",
       "    </tr>\n",
       "    <tr>\n",
       "      <th>4</th>\n",
       "      <td>2017-09-13</td>\n",
       "      <td>20:45</td>\n",
       "      <td>Champions Lg</td>\n",
       "      <td>Group stage</td>\n",
       "      <td>Wed</td>\n",
       "      <td>Away</td>\n",
       "      <td>W</td>\n",
       "      <td>4</td>\n",
       "      <td>0</td>\n",
       "      <td>nl Feyenoord</td>\n",
       "      <td>...</td>\n",
       "      <td>3-4-3</td>\n",
       "      <td>Szymon Marciniak</td>\n",
       "      <td>Match Report</td>\n",
       "      <td>NaN</td>\n",
       "      <td>11</td>\n",
       "      <td>7</td>\n",
       "      <td>14.4</td>\n",
       "      <td>0.0</td>\n",
       "      <td>0</td>\n",
       "      <td>0</td>\n",
       "    </tr>\n",
       "  </tbody>\n",
       "</table>\n",
       "<p>5 rows × 26 columns</p>\n",
       "</div>"
      ],
      "text/plain": [
       "         Date   Time            Comp        Round  Day Venue Result GF GA  \\\n",
       "0  2017-08-12  17:30  Premier League  Matchweek 1  Sat  Away      W  2  0   \n",
       "1  2017-08-21  20:00  Premier League  Matchweek 2  Mon  Home      D  1  1   \n",
       "2  2017-08-26  12:30  Premier League  Matchweek 3  Sat  Away      W  2  1   \n",
       "3  2017-09-09  12:30  Premier League  Matchweek 4  Sat  Home      W  5  0   \n",
       "4  2017-09-13  20:45    Champions Lg  Group stage  Wed  Away      W  4  0   \n",
       "\n",
       "       Opponent  ...  Opp Formation           Referee  Match Report  Notes  \\\n",
       "0      Brighton  ...          4-4-2    Michael Oliver  Match Report    NaN   \n",
       "1       Everton  ...          3-5-2     Robert Madley  Match Report    NaN   \n",
       "2   Bournemouth  ...          5-3-2         Mike Dean  Match Report    NaN   \n",
       "3     Liverpool  ...          4-3-3     Jonathan Moss  Match Report    NaN   \n",
       "4  nl Feyenoord  ...          3-4-3  Szymon Marciniak  Match Report    NaN   \n",
       "\n",
       "   Sh SoT  Dist   FK PK PKatt  \n",
       "0  14   4  19.5  2.0  0     0  \n",
       "1  19   6  20.0  1.0  0     0  \n",
       "2  19   8  16.2  1.0  0     0  \n",
       "3  13  10  14.0  0.0  0     0  \n",
       "4  11   7  14.4  0.0  0     0  \n",
       "\n",
       "[5 rows x 26 columns]"
      ]
     },
     "execution_count": 40,
     "metadata": {},
     "output_type": "execute_result"
    }
   ],
   "source": [
    "team_data.head()"
   ]
  },
  {
   "cell_type": "code",
   "execution_count": 59,
   "id": "d1d50277-6337-4636-b85f-b92152b0a5de",
   "metadata": {},
   "outputs": [],
   "source": [
    "ranking_url = \"https://www.clubranking.eu/5-year-ranking-2018/\""
   ]
  },
  {
   "cell_type": "code",
   "execution_count": 60,
   "id": "d9a6aca0-37cb-407c-a578-fd5b35494ee7",
   "metadata": {},
   "outputs": [],
   "source": [
    "ranking =  requests.get(ranking_url)"
   ]
  },
  {
   "cell_type": "code",
   "execution_count": 61,
   "id": "0fcb8eeb-71a5-41fb-9c7e-5d2967b9cdf9",
   "metadata": {},
   "outputs": [],
   "source": [
    "rank = BeautifulSoup(ranking.text)"
   ]
  },
  {
   "cell_type": "code",
   "execution_count": 64,
   "id": "7a59162c-632c-47f4-bc40-d522f7576318",
   "metadata": {},
   "outputs": [],
   "source": [
    "# Find the div using data-id\n",
    "table_div = rank.find('div', {'data-id': 'baba125'})"
   ]
  },
  {
   "cell_type": "code",
   "execution_count": 65,
   "id": "7fa658a9-5679-4290-8baf-0d4b3a263ed6",
   "metadata": {},
   "outputs": [],
   "source": [
    "table = table_div.find('table')\n",
    "\n",
    "# Extract table rows\n",
    "rows = table.find_all('tr')"
   ]
  },
  {
   "cell_type": "code",
   "execution_count": 66,
   "id": "ec4ffc6c-16c7-4908-bfe6-b031badb5184",
   "metadata": {},
   "outputs": [],
   "source": [
    "# Extract headers\n",
    "headers = [header.text.strip() for header in rows[0].find_all('td')]"
   ]
  },
  {
   "cell_type": "code",
   "execution_count": 67,
   "id": "4cb57aaa-3a37-480e-af1c-9c65f8e0f366",
   "metadata": {},
   "outputs": [
    {
     "name": "stdout",
     "output_type": "stream",
     "text": [
      "['Rank', '', 'Points', 'League']\n"
     ]
    }
   ],
   "source": [
    "print(headers)"
   ]
  },
  {
   "cell_type": "code",
   "execution_count": 68,
   "id": "06902f66-cfcb-43ec-94cb-45744c1e5966",
   "metadata": {},
   "outputs": [],
   "source": [
    "headers = ['Rank','Logo' ,'Club', 'Points', 'League']"
   ]
  },
  {
   "cell_type": "code",
   "execution_count": 69,
   "id": "18d535e8-9301-4d98-b8ee-2eeaad43b573",
   "metadata": {},
   "outputs": [
    {
     "name": "stdout",
     "output_type": "stream",
     "text": [
      "     Rank Logo                 Club  Points League\n",
      "0    Rank                    Points  League   None\n",
      "1      1.            Real Madrid CF  651,90       \n",
      "2      2.              FC Barcelona  641,66       \n",
      "3      3.         FC Bayern München  624,47       \n",
      "4      4.               Juventus FC  604,61       \n",
      "..    ...  ...                  ...     ...    ...\n",
      "96    96.                 Málaga CF  202,99       \n",
      "97    97.           FK Rubin Kazan‘  201,71       \n",
      "98    98.                HNK Rijeka  201,70       \n",
      "99    99.               EA Guingamp  200,32       \n",
      "100  100.       Maccabi Tel-Aviv FC  198,39       \n",
      "\n",
      "[101 rows x 5 columns]\n"
     ]
    }
   ],
   "source": [
    "data = []\n",
    "for row in rows:  # Skip the header row\n",
    "    cells = row.find_all('td')\n",
    "    data.append([cell.text.strip() for cell in cells])\n",
    "\n",
    "# Create the DataFrame\n",
    "df = pd.DataFrame(data, columns=headers)\n",
    "\n",
    "# Display the DataFrame\n",
    "print(df)"
   ]
  },
  {
   "cell_type": "code",
   "execution_count": 70,
   "id": "bfc738a6-b818-4c0f-bf68-181357498e76",
   "metadata": {},
   "outputs": [
    {
     "name": "stdout",
     "output_type": "stream",
     "text": [
      "     Rank                 Club\n",
      "0    Rank               Points\n",
      "1      1.       Real Madrid CF\n",
      "2      2.         FC Barcelona\n",
      "3      3.    FC Bayern München\n",
      "4      4.          Juventus FC\n",
      "..    ...                  ...\n",
      "96    96.            Málaga CF\n",
      "97    97.      FK Rubin Kazan‘\n",
      "98    98.           HNK Rijeka\n",
      "99    99.          EA Guingamp\n",
      "100  100.  Maccabi Tel-Aviv FC\n",
      "\n",
      "[101 rows x 2 columns]\n"
     ]
    }
   ],
   "source": [
    "# Keep only the 'Rank' and 'Club' columns\n",
    "df = df[['Rank', 'Club']]\n",
    "\n",
    "# Reset the index to remove the default pandas index\n",
    "df = df.reset_index(drop=True)\n",
    "\n",
    "# Display the updated DataFrame\n",
    "print(df)"
   ]
  },
  {
   "cell_type": "code",
   "execution_count": 71,
   "id": "131e04a8-4a22-425a-b254-7475c0b1ba60",
   "metadata": {},
   "outputs": [
    {
     "name": "stdout",
     "output_type": "stream",
     "text": [
      "    Rank                     Club\n",
      "0     1.              Real Madrid\n",
      "1     2.                Barcelona\n",
      "2     3.           Bayern München\n",
      "3     4.                 Juventus\n",
      "4     5.  Club Atlético de Madrid\n",
      "..   ...                      ...\n",
      "95   96.                   Málaga\n",
      "96   97.          FK Rubin Kazan‘\n",
      "97   98.               HNK Rijeka\n",
      "98   99.              EA Guingamp\n",
      "99  100.         Maccabi Tel-Aviv\n",
      "\n",
      "[100 rows x 2 columns]\n"
     ]
    }
   ],
   "source": [
    "# Remove 'FC' and 'CF' from the 'Club' column\n",
    "df['Club'] = df['Club'].str.replace(r'\\bFC\\b|\\bCF\\b', '', regex=True).str.strip()\n",
    "# Remove the first row\n",
    "df = df.drop(index=0).reset_index(drop=True)\n",
    "# Display the updated DataFrame\n",
    "print(df)"
   ]
  },
  {
   "cell_type": "code",
   "execution_count": 72,
   "id": "a4fbbcdb-2da8-4cf9-861f-91a81e690751",
   "metadata": {},
   "outputs": [
    {
     "name": "stdout",
     "output_type": "stream",
     "text": [
      "    Rank                          Club\n",
      "0     1.                   Real Madrid\n",
      "1     2.                     Barcelona\n",
      "2     3.                Bayern München\n",
      "3     4.                      Juventus\n",
      "4     5.       Club Atlético de Madrid\n",
      "5     6.               Manchester City\n",
      "6     7.           Paris Saint-Germain\n",
      "7     8.                       Chelsea\n",
      "8     9.                       Arsenal\n",
      "9    10.                    SSC Napoli\n",
      "10   11.             Manchester United\n",
      "11   12.       BV Borussia 09 Dortmund\n",
      "12   13.                       Sevilla\n",
      "13   14.                       AS Roma\n",
      "14   15.             Tottenham Hotspur\n",
      "15   16.                     Liverpool\n",
      "16   17.                    SL Benfica\n",
      "17   18.                         Porto\n",
      "18   19.          FK Shakhtar Donetsʹk\n",
      "19   20.                     AS Monaco\n",
      "20   21.     FK Zenit Sankt Petersburg\n",
      "21   22.           Bayer 04 Leverkusen\n",
      "22   23.                    Villarreal\n",
      "23   24.                      SS Lazio\n",
      "24   25.                ACF Fiorentina\n",
      "25   26.               PFK CSKA Moskva\n",
      "26   27.                    Schalke 04\n",
      "27   28.    Sporting Clube de Portugal\n",
      "28   29.                 Athletic Club\n",
      "29   30.                FK Dynamo Kyiv\n",
      "30   31.                   Beşiktaş JK\n",
      "31   32.            Olympique Lyonnais\n",
      "32   33.                      Valencia\n",
      "33   34.         Internazionale Milano\n",
      "34   35.                      AC Milan\n",
      "35   36.  VfL Borussia Mönchengladbach\n",
      "36   37.                 VfL Wolfsburg\n",
      "37   38.                    Basel 1893\n",
      "38   39.                 Fenerbahçe SK\n",
      "39   40.                      AFC Ajax\n",
      "40   41.                Galatasaray SK\n",
      "41   42.                       Everton\n",
      "42   43.                Olympiakós SFP\n",
      "43   44.                Club Brugge KV\n",
      "44   45.                 PSV Eindhoven\n",
      "45   46.                  FK Krasnodar\n",
      "46   47.        Olympique de Marseille\n",
      "47   48.       Real Sociedad de Fútbol\n",
      "48   49.              RC Celta de Vigo\n",
      "49   50.           FK Lokomotiv Moskva\n",
      "50   51.                   Southampton\n",
      "51   52.             Red Bull Salzburg\n",
      "52   53.             FK Spartak Moskva\n",
      "53   54.                RSC Anderlecht\n",
      "54   55.              AS Saint-Étienne\n",
      "55   56.                      SC Braga\n",
      "56   57.           TSG 1899 Hoffenheim\n",
      "57   58.    Atalanta Bergamasca Calcio\n",
      "58   59.                        Torino\n",
      "59   60.           Feyenoord Rotterdam\n",
      "60   61.     RCD Espanyol de Barcelona\n",
      "61   62.        SG Eintracht Frankfurt\n",
      "62   63.               West Ham United\n",
      "63   64.                      KAA Gent\n",
      "64   65.                Viktoria Plzeň\n",
      "65   66.                Leicester City\n",
      "66   67.                      PAE PAOK\n",
      "67   68.                1.FSV Mainz 05\n",
      "68   69.                    Stoke City\n",
      "69   70.                      Augsburg\n",
      "70   71.                      OGC Nice\n",
      "71   72.               AC Sparta Praha\n",
      "72   73.                  Swansea City\n",
      "73   74.                        Celtic\n",
      "74   75.                    AZ Alkmaar\n",
      "75   76.         Girondins de Bordeaux\n",
      "76   77.             GNK Dinamo Zagreb\n",
      "77   78.                  UC Sampdoria\n",
      "78   79.                     FK Rostov\n",
      "79   80.                Crystal Palace\n",
      "80   81.                BSC Young Boys\n",
      "81   82.                      KRC Genk\n",
      "82   83.              SV Werder Bremen\n",
      "83   84.                    LOSC Lille\n",
      "84   85.            US Sassuolo Calcio\n",
      "85   86.        İstanbul Başakşehir FK\n",
      "86   87.        PFK Ludogorets Razgrad\n",
      "87   88.              Steaua Bucureşti\n",
      "88   89.                         APOEL\n",
      "89   90.                    Hertha BSC\n",
      "90   91.                     København\n",
      "91   92.       Royal Standard de Liège\n",
      "92   93.                   Trabzonspor\n",
      "93   94.                Genoa CFC 1893\n",
      "94   95.             FK Zorya Luhansʹk\n",
      "95   96.                        Málaga\n",
      "96   97.               FK Rubin Kazan‘\n",
      "97   98.                    HNK Rijeka\n",
      "98   99.                   EA Guingamp\n",
      "99  100.              Maccabi Tel-Aviv\n"
     ]
    }
   ],
   "source": [
    "pd.set_option('display.max_rows', None)\n",
    "\n",
    "# Now print the entire DataFrame\n",
    "print(df)"
   ]
  },
  {
   "cell_type": "code",
   "execution_count": 73,
   "id": "242fb172-8fdf-4280-a205-4cef9d4c13bc",
   "metadata": {},
   "outputs": [
    {
     "name": "stdout",
     "output_type": "stream",
     "text": [
      "    Rank                          Club\n",
      "0     1.                   Real Madrid\n",
      "1     2.                     Barcelona\n",
      "2     3.                Bayern München\n",
      "3     4.                      Juventus\n",
      "4     5.       Club Atlético de Madrid\n",
      "5     6.               Manchester City\n",
      "6     7.           Paris Saint-Germain\n",
      "7     8.                       Chelsea\n",
      "8     9.                       Arsenal\n",
      "9    10.                    SSC Napoli\n",
      "10   11.                Manchester Utd\n",
      "11   12.       BV Borussia 09 Dortmund\n",
      "12   13.                       Sevilla\n",
      "13   14.                       AS Roma\n",
      "14   15.                     Tottenham\n",
      "15   16.                     Liverpool\n",
      "16   17.                    SL Benfica\n",
      "17   18.                         Porto\n",
      "18   19.          FK Shakhtar Donetsʹk\n",
      "19   20.                     AS Monaco\n",
      "20   21.     FK Zenit Sankt Petersburg\n",
      "21   22.           Bayer 04 Leverkusen\n",
      "22   23.                    Villarreal\n",
      "23   24.                      SS Lazio\n",
      "24   25.                ACF Fiorentina\n",
      "25   26.               PFK CSKA Moskva\n",
      "26   27.                    Schalke 04\n",
      "27   28.    Sporting Clube de Portugal\n",
      "28   29.                 Athletic Club\n",
      "29   30.                FK Dynamo Kyiv\n",
      "30   31.                   Beşiktaş JK\n",
      "31   32.            Olympique Lyonnais\n",
      "32   33.                      Valencia\n",
      "33   34.         Internazionale Milano\n",
      "34   35.                      AC Milan\n",
      "35   36.  VfL Borussia Mönchengladbach\n",
      "36   37.                 VfL Wolfsburg\n",
      "37   38.                    Basel 1893\n",
      "38   39.                 Fenerbahçe SK\n",
      "39   40.                      AFC Ajax\n",
      "40   41.                Galatasaray SK\n",
      "41   42.                       Everton\n",
      "42   43.                Olympiakós SFP\n",
      "43   44.                Club Brugge KV\n",
      "44   45.                 PSV Eindhoven\n",
      "45   46.                  FK Krasnodar\n",
      "46   47.        Olympique de Marseille\n",
      "47   48.       Real Sociedad de Fútbol\n",
      "48   49.              RC Celta de Vigo\n",
      "49   50.           FK Lokomotiv Moskva\n",
      "50   51.                   Southampton\n",
      "51   52.             Red Bull Salzburg\n",
      "52   53.             FK Spartak Moskva\n",
      "53   54.                RSC Anderlecht\n",
      "54   55.              AS Saint-Étienne\n",
      "55   56.                      SC Braga\n",
      "56   57.           TSG 1899 Hoffenheim\n",
      "57   58.    Atalanta Bergamasca Calcio\n",
      "58   59.                        Torino\n",
      "59   60.           Feyenoord Rotterdam\n",
      "60   61.     RCD Espanyol de Barcelona\n",
      "61   62.        SG Eintracht Frankfurt\n",
      "62   63.                      West Ham\n",
      "63   64.                      KAA Gent\n",
      "64   65.                Viktoria Plzeň\n",
      "65   66.                Leicester City\n",
      "66   67.                      PAE PAOK\n",
      "67   68.                1.FSV Mainz 05\n",
      "68   69.                    Stoke City\n",
      "69   70.                      Augsburg\n",
      "70   71.                      OGC Nice\n",
      "71   72.               AC Sparta Praha\n",
      "72   73.                  Swansea City\n",
      "73   74.                        Celtic\n",
      "74   75.                    AZ Alkmaar\n",
      "75   76.         Girondins de Bordeaux\n",
      "76   77.             GNK Dinamo Zagreb\n",
      "77   78.                  UC Sampdoria\n",
      "78   79.                     FK Rostov\n",
      "79   80.                Crystal Palace\n",
      "80   81.                BSC Young Boys\n",
      "81   82.                      KRC Genk\n",
      "82   83.              SV Werder Bremen\n",
      "83   84.                    LOSC Lille\n",
      "84   85.            US Sassuolo Calcio\n",
      "85   86.        İstanbul Başakşehir FK\n",
      "86   87.        PFK Ludogorets Razgrad\n",
      "87   88.              Steaua Bucureşti\n",
      "88   89.                         APOEL\n",
      "89   90.                    Hertha BSC\n",
      "90   91.                     København\n",
      "91   92.       Royal Standard de Liège\n",
      "92   93.                   Trabzonspor\n",
      "93   94.                Genoa CFC 1893\n",
      "94   95.             FK Zorya Luhansʹk\n",
      "95   96.                        Málaga\n",
      "96   97.               FK Rubin Kazan‘\n",
      "97   98.                    HNK Rijeka\n",
      "98   99.                   EA Guingamp\n",
      "99  100.              Maccabi Tel-Aviv\n"
     ]
    }
   ],
   "source": [
    "df['Club'] = df['Club'].replace({\n",
    "    'Manchester United': 'Manchester Utd',\n",
    "    'Tottenham Hotspur': 'Tottenham',\n",
    "    'West Ham United': 'West Ham'\n",
    "})\n",
    "\n",
    "# Print the updated DataFrame\n",
    "print(df)"
   ]
  },
  {
   "cell_type": "code",
   "execution_count": 75,
   "id": "29f956eb-f603-4911-8d24-c50037efec64",
   "metadata": {},
   "outputs": [
    {
     "name": "stdout",
     "output_type": "stream",
     "text": [
      "Index(['Date', 'Time', 'Comp', 'Round', 'Day', 'Venue', 'Result', 'GF', 'GA',\n",
      "       'Opponent', 'xG', 'xGA', 'Poss', 'Attendance', 'Captain', 'Formation',\n",
      "       'Opp Formation', 'Referee', 'Match Report', 'Notes', 'Sh', 'SoT',\n",
      "       'Dist', 'FK', 'PK', 'PKatt'],\n",
      "      dtype='object')\n"
     ]
    }
   ],
   "source": [
    "# Access headers of team_data\n",
    "headers = team_data.columns\n",
    "\n",
    "# Print the headers\n",
    "print(headers)"
   ]
  },
  {
   "cell_type": "code",
   "execution_count": 76,
   "id": "8ba27a80-4641-401c-9663-9a110956ea28",
   "metadata": {},
   "outputs": [
    {
     "name": "stdout",
     "output_type": "stream",
     "text": [
      "         Date   Time            Comp        Round  Day Venue Result GF GA  \\\n",
      "0  2017-08-12  17:30  Premier League  Matchweek 1  Sat  Away      W  2  0   \n",
      "1  2017-08-21  20:00  Premier League  Matchweek 2  Mon  Home      D  1  1   \n",
      "2  2017-08-26  12:30  Premier League  Matchweek 3  Sat  Away      W  2  1   \n",
      "3  2017-09-09  12:30  Premier League  Matchweek 4  Sat  Home      W  5  0   \n",
      "4  2017-09-13  20:45    Champions Lg  Group stage  Wed  Away      W  4  0   \n",
      "\n",
      "       Opponent  ...           Referee  Match Report  Notes  Sh SoT  Dist  \\\n",
      "0      Brighton  ...    Michael Oliver  Match Report    NaN  14   4  19.5   \n",
      "1       Everton  ...     Robert Madley  Match Report    NaN  19   6  20.0   \n",
      "2   Bournemouth  ...         Mike Dean  Match Report    NaN  19   8  16.2   \n",
      "3     Liverpool  ...     Jonathan Moss  Match Report    NaN  13  10  14.0   \n",
      "4  nl Feyenoord  ...  Szymon Marciniak  Match Report    NaN  11   7  14.4   \n",
      "\n",
      "    FK PK PKatt Rank  \n",
      "0  2.0  0     0  NaN  \n",
      "1  1.0  0     0  42.  \n",
      "2  1.0  0     0  NaN  \n",
      "3  0.0  0     0  16.  \n",
      "4  0.0  0     0  NaN  \n",
      "\n",
      "[5 rows x 27 columns]\n"
     ]
    }
   ],
   "source": [
    "# Merge the tables so that 'team_data' gets a new 'Rank' column from 'df'\n",
    "merged_data = team_data.merge(df[['Club','Rank']], left_on='Opponent', right_on='Club', how='left')\n",
    "\n",
    "# Remove the 'Club' column from merged_data\n",
    "merged_data = merged_data.drop(columns=['Club'])\n",
    "\n",
    "# Display the result (top 5 rows)\n",
    "print(merged_data.head())"
   ]
  },
  {
   "cell_type": "code",
   "execution_count": null,
   "id": "53e5c90b-6236-48c6-b441-db0b953f3acc",
   "metadata": {},
   "outputs": [],
   "source": []
  }
 ],
 "metadata": {
  "kernelspec": {
   "display_name": "Python 3 (ipykernel)",
   "language": "python",
   "name": "python3"
  },
  "language_info": {
   "codemirror_mode": {
    "name": "ipython",
    "version": 3
   },
   "file_extension": ".py",
   "mimetype": "text/x-python",
   "name": "python",
   "nbconvert_exporter": "python",
   "pygments_lexer": "ipython3",
   "version": "3.12.3"
  }
 },
 "nbformat": 4,
 "nbformat_minor": 5
}
