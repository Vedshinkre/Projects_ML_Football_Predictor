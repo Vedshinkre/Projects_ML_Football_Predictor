{
 "cells": [
  {
   "cell_type": "markdown",
   "id": "cc70686b-e030-4a77-8c0e-cfcba865da64",
   "metadata": {},
   "source": [
    "## Quadratic Discriminant Analysis (QDA)\n",
    "\n",
    "Quadratic Discriminant Analysis (QDA) is a classification technique that extends Linear Discriminant Analysis (LDA) by allowing **quadratic decision boundaries**. Unlike LDA, which assumes a **shared covariance matrix** across classes, QDA estimates a **separate covariance matrix** for each class. This makes QDA more flexible for capturing complex, non-linear relationships in data.\n",
    "\n",
    "### How It Works:\n",
    "- **Class-Specific Covariance Matrices**: Unlike LDA, which assumes identical covariance across all classes, QDA allows each class to have its own covariance structure.\n",
    "- **Non-Linear Decision Boundaries**: The decision surface is quadratic rather than linear, enabling better separation for complex datasets.\n",
    "- **Bayes’ Theorem**: Similar to LDA, QDA applies Bayes' theorem to estimate the probability of a data point belonging to each class.\n",
    "- **No Dimensionality Reduction**: Unlike LDA, QDA does not project data onto a lower-dimensional space.\n",
    "\n",
    "### Advantages:\n",
    "✅ **Captures Non-Linear Patterns**: More flexible than LDA as it allows quadratic decision boundaries.  \n",
    "✅ **Better for Complex Data**: Works well when class distributions have different covariance structures.  \n",
    "✅ **No Assumption of Identical Covariance**: Each class has its own covariance matrix, leading to more precise decision boundaries.  \n",
    "✅ **Effective for Well-Separated Data**: Performs well when class distributions are distinct and non-linearly separable.  \n",
    "\n",
    "### Disadvantages:\n",
    "❌ **Requires More Data**: Since QDA estimates a separate covariance matrix for each class, it needs **more training data** to avoid overfitting.  \n",
    "❌ **Sensitive to Outliers**: Outliers can significantly distort the covariance estimates, affecting classification performance.  \n",
    "❌ **Computationally Expensive**: Estimating multiple covariance matrices increases computational cost, especially in high-dimensional datasets.  \n",
    "❌ **Not Always Better than LDA**: If the true class boundaries are linear, LDA may outperform QDA due to its simpler assumptions.  \n",
    "\n"
   ]
  },
  {
   "cell_type": "markdown",
   "id": "b435f728-6654-4fd0-8e72-d8deb7dcdfb2",
   "metadata": {},
   "source": [
    "### QDA using Baseline Predictors (refer /Data/Data_Formatting.ipynb)"
   ]
  },
  {
   "cell_type": "code",
   "execution_count": 22,
   "id": "73e79954-582f-45fd-9f0a-f52f8b9db86c",
   "metadata": {},
   "outputs": [],
   "source": [
    "def make_yearly_predictions_qda_base(Train, Test):\n",
    "    static_predictors =  parameters_base(Train,Test)\n",
    "\n",
    "    # Train a QDA model\n",
    "    qda_clf = QuadraticDiscriminantAnalysis()\n",
    "    qda_clf.fit(Train[static_predictors], Train[\"Target\"])\n",
    "\n",
    "    results = []\n",
    "    for year in range(Test['Date'].dt.year.min(), Test['Date'].dt.year.max() + 1):\n",
    "        test_year = Test[Test['Date'].dt.year == year]\n",
    "        if not test_year.empty:\n",
    "            # Predict on test data\n",
    "            preds = qda_clf.predict(test_year[static_predictors])\n",
    "\n",
    "            # Calculate precision and accuracy\n",
    "            precision = precision_score(test_year[\"Target\"], preds, average=\"weighted\", zero_division=1)\n",
    "            accuracy = accuracy_score(test_year[\"Target\"], preds)\n",
    "\n",
    "            # Append results to list\n",
    "            results.append({\n",
    "                \"Model\": \"Quadratic Discriminant Analysis\",\n",
    "                \"Year\": year,\n",
    "                \"Precision\": precision,\n",
    "                \"Accuracy\": accuracy\n",
    "            })\n",
    "\n",
    "    # Convert results to DataFrame\n",
    "    results_df = pd.DataFrame(results)\n",
    "    \n",
    "    return results_df\n"
   ]
  },
  {
   "cell_type": "markdown",
   "id": "525616cf-bfef-44e3-9c3e-26feb0d37250",
   "metadata": {},
   "source": [
    "### QDA using Baseline Predictors + Rolling Predictors (refer /Data/Data_Formatting.ipynb)"
   ]
  },
  {
   "cell_type": "code",
   "execution_count": 23,
   "id": "93c53610-73a9-4e69-b753-4a895ca70548",
   "metadata": {},
   "outputs": [],
   "source": [
    "def make_yearly_predictions_qda_roll(Train, Test):\n",
    "\n",
    "    all_predictors = parameters_roll(Train,Test)\n",
    "    Train = roll(Train)\n",
    "    Test  = roll(Test)\n",
    "\n",
    " # Train a QDA model\n",
    "    qda_clf = QuadraticDiscriminantAnalysis()\n",
    "    qda_clf.fit(Train[all_predictors], Train[\"Target\"])\n",
    "\n",
    "    results = []\n",
    "    for year in range(Test['Date'].dt.year.min(), Test['Date'].dt.year.max() + 1):\n",
    "        test_year = Test[Test['Date'].dt.year == year]\n",
    "        if not test_year.empty:\n",
    "            # Predict on test data\n",
    "            preds =qda_clf.predict(test_year[ all_predictors ])\n",
    "\n",
    "            # Calculate precision and accuracy\n",
    "            precision = precision_score(test_year[\"Target\"], preds, average=\"weighted\", zero_division=1)\n",
    "            accuracy = accuracy_score(test_year[\"Target\"], preds)\n",
    "\n",
    "            # Append results to list\n",
    "            results.append({\n",
    "                \"Model\": \"Quadratic Discriminant Analysis\",\n",
    "                \"Year\": year,\n",
    "                \"Precision\": precision,\n",
    "                \"Accuracy\": accuracy\n",
    "            })\n",
    "\n",
    "    # Convert results to DataFrame\n",
    "    results_df = pd.DataFrame(results)\n",
    "    \n",
    "    return results_df\n"
   ]
  },
  {
   "cell_type": "markdown",
   "id": "7281f88e-8815-4ae5-9bc5-9c1c13aa33e1",
   "metadata": {},
   "source": [
    "### QDA using  Full Feature Set (refer /Data/Data_Formatting.ipynb)"
   ]
  },
  {
   "cell_type": "code",
   "execution_count": 24,
   "id": "2e2ac509-6e12-4c23-a9d1-ede300b8dce6",
   "metadata": {},
   "outputs": [],
   "source": [
    "def make_yearly_predictions_qda_full(Train, Test):\n",
    "\n",
    "    all_predictors = parameters_full(Train,Test)\n",
    "    Train = roll(Train)\n",
    "    Test  = roll(Test)\n",
    "\n",
    "   # Train a QDA model\n",
    "    qda_clf = QuadraticDiscriminantAnalysis()\n",
    "    qda_clf.fit(Train[all_predictors], Train[\"Target\"])\n",
    "\n",
    "    results = []\n",
    "    for year in range(Test['Date'].dt.year.min(), Test['Date'].dt.year.max() + 1):\n",
    "        test_year = Test[Test['Date'].dt.year == year]\n",
    "        if not test_year.empty:\n",
    "            # Predict on test data\n",
    "            preds = qda_clf.predict(test_year[ all_predictors ])\n",
    "\n",
    "            # Calculate precision and accuracy\n",
    "            precision = precision_score(test_year[\"Target\"], preds, average=\"weighted\", zero_division=1)\n",
    "            accuracy = accuracy_score(test_year[\"Target\"], preds)\n",
    "\n",
    "            # Append results to list\n",
    "            results.append({\n",
    "                \"Model\": \"Quadratic Discriminant Analysis\",\n",
    "                \"Year\": year,\n",
    "                \"Precision\": precision,\n",
    "                \"Accuracy\": accuracy\n",
    "            })\n",
    "\n",
    "    # Convert results to DataFrame\n",
    "    results_df = pd.DataFrame(results)\n",
    "    \n",
    "    return results_df"
   ]
  }
 ],
 "metadata": {
  "kernelspec": {
   "display_name": "Python 3 (ipykernel)",
   "language": "python",
   "name": "python3"
  },
  "language_info": {
   "codemirror_mode": {
    "name": "ipython",
    "version": 3
   },
   "file_extension": ".py",
   "mimetype": "text/x-python",
   "name": "python",
   "nbconvert_exporter": "python",
   "pygments_lexer": "ipython3",
   "version": "3.12.3"
  }
 },
 "nbformat": 4,
 "nbformat_minor": 5
}
