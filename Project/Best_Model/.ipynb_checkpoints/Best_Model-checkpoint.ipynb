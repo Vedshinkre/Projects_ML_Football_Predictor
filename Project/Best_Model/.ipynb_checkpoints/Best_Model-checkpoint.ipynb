{
 "cells": [
  {
   "cell_type": "code",
   "execution_count": 23,
   "id": "b646408a-6917-4e2a-af84-a275f749aaa5",
   "metadata": {},
   "outputs": [],
   "source": [
    "#downloading all the necesaary dependecies\n",
    "import pandas as pd\n",
    "import numpy as np\n",
    "from pathlib import Path\n",
    "from sklearn.neighbors import KNeighborsClassifier\n",
    "from sklearn.discriminant_analysis import LinearDiscriminantAnalysis\n",
    "from sklearn.linear_model import LogisticRegression\n",
    "from sklearn.discriminant_analysis import QuadraticDiscriminantAnalysis\n",
    "from sklearn.metrics import accuracy_score, precision_score\n",
    "from sklearn.model_selection import cross_val_score, KFold\n",
    "from sklearn.model_selection import GridSearchCV\n",
    "from sklearn.tree import DecisionTreeClassifier\n",
    "from sklearn.ensemble import BaggingClassifier\n",
    "from sklearn.ensemble import RandomForestClassifier\n",
    "from sklearn.ensemble import GradientBoostingClassifier"
   ]
  },
  {
   "cell_type": "code",
   "execution_count": 24,
   "id": "ff8764ba-fd28-4a69-a8cf-23860f263407",
   "metadata": {},
   "outputs": [
    {
     "name": "stdout",
     "output_type": "stream",
     "text": [
      "Requirement already satisfied: scikit-learn in c:\\users\\vedsh\\miniconda3\\lib\\site-packages (1.6.0)\n",
      "Requirement already satisfied: numpy>=1.19.5 in c:\\users\\vedsh\\miniconda3\\lib\\site-packages (from scikit-learn) (2.2.1)\n",
      "Requirement already satisfied: scipy>=1.6.0 in c:\\users\\vedsh\\miniconda3\\lib\\site-packages (from scikit-learn) (1.15.0)\n",
      "Requirement already satisfied: joblib>=1.2.0 in c:\\users\\vedsh\\miniconda3\\lib\\site-packages (from scikit-learn) (1.4.2)\n",
      "Requirement already satisfied: threadpoolctl>=3.1.0 in c:\\users\\vedsh\\miniconda3\\lib\\site-packages (from scikit-learn) (3.5.0)\n",
      "Note: you may need to restart the kernel to use updated packages.\n"
     ]
    }
   ],
   "source": [
    "pip install scikit-learn"
   ]
  },
  {
   "cell_type": "code",
   "execution_count": 25,
   "id": "c75ab32d-be82-4116-84b6-93d1b44671ed",
   "metadata": {},
   "outputs": [],
   "source": [
    "%run ../Data/Data_Formatting.ipynb"
   ]
  },
  {
   "cell_type": "code",
   "execution_count": 26,
   "id": "b321b023-04ee-4261-ac8d-b1c2dca001df",
   "metadata": {},
   "outputs": [],
   "source": [
    "%run ../Data/Ultimate_Hyperparameters.ipynb"
   ]
  },
  {
   "cell_type": "code",
   "execution_count": 27,
   "id": "d7a274b9-9f1a-499a-ae32-cfcc69af1056",
   "metadata": {},
   "outputs": [],
   "source": [
    "%run ../Data/Parameters.ipynb"
   ]
  },
  {
   "cell_type": "code",
   "execution_count": 28,
   "id": "a723a88e-0945-4da4-bdc7-e0b61da0b4b8",
   "metadata": {},
   "outputs": [
    {
     "name": "stdout",
     "output_type": "stream",
     "text": [
      "Requirement already satisfied: scikit-learn in c:\\users\\vedsh\\miniconda3\\lib\\site-packages (1.6.0)\n",
      "Requirement already satisfied: numpy>=1.19.5 in c:\\users\\vedsh\\miniconda3\\lib\\site-packages (from scikit-learn) (2.2.1)\n",
      "Requirement already satisfied: scipy>=1.6.0 in c:\\users\\vedsh\\miniconda3\\lib\\site-packages (from scikit-learn) (1.15.0)\n",
      "Requirement already satisfied: joblib>=1.2.0 in c:\\users\\vedsh\\miniconda3\\lib\\site-packages (from scikit-learn) (1.4.2)\n",
      "Requirement already satisfied: threadpoolctl>=3.1.0 in c:\\users\\vedsh\\miniconda3\\lib\\site-packages (from scikit-learn) (3.5.0)\n",
      "Note: you may need to restart the kernel to use updated packages.\n"
     ]
    }
   ],
   "source": [
    "%run ../Basic_Models/Model_Selection.ipynb"
   ]
  },
  {
   "cell_type": "code",
   "execution_count": 29,
   "id": "e4af43f5-887e-445c-835a-66192de96ef9",
   "metadata": {},
   "outputs": [
    {
     "name": "stdout",
     "output_type": "stream",
     "text": [
      "Requirement already satisfied: scikit-learn in c:\\users\\vedsh\\miniconda3\\lib\\site-packages (1.6.0)\n",
      "Requirement already satisfied: numpy>=1.19.5 in c:\\users\\vedsh\\miniconda3\\lib\\site-packages (from scikit-learn) (2.2.1)\n",
      "Requirement already satisfied: scipy>=1.6.0 in c:\\users\\vedsh\\miniconda3\\lib\\site-packages (from scikit-learn) (1.15.0)\n",
      "Requirement already satisfied: joblib>=1.2.0 in c:\\users\\vedsh\\miniconda3\\lib\\site-packages (from scikit-learn) (1.4.2)\n",
      "Requirement already satisfied: threadpoolctl>=3.1.0 in c:\\users\\vedsh\\miniconda3\\lib\\site-packages (from scikit-learn) (3.5.0)\n",
      "Note: you may need to restart the kernel to use updated packages.\n"
     ]
    }
   ],
   "source": [
    "%run ../Tree_Models/Model_Selection.ipynb"
   ]
  },
  {
   "cell_type": "code",
   "execution_count": 30,
   "id": "41bc2b00-ab81-489f-9518-541605eeafb4",
   "metadata": {},
   "outputs": [
    {
     "name": "stdout",
     "output_type": "stream",
     "text": [
      "Requirement already satisfied: scikit-learn in c:\\users\\vedsh\\miniconda3\\lib\\site-packages (1.6.0)\n",
      "Requirement already satisfied: numpy>=1.19.5 in c:\\users\\vedsh\\miniconda3\\lib\\site-packages (from scikit-learn) (2.2.1)\n",
      "Requirement already satisfied: scipy>=1.6.0 in c:\\users\\vedsh\\miniconda3\\lib\\site-packages (from scikit-learn) (1.15.0)\n",
      "Requirement already satisfied: joblib>=1.2.0 in c:\\users\\vedsh\\miniconda3\\lib\\site-packages (from scikit-learn) (1.4.2)\n",
      "Requirement already satisfied: threadpoolctl>=3.1.0 in c:\\users\\vedsh\\miniconda3\\lib\\site-packages (from scikit-learn) (3.5.0)\n",
      "Note: you may need to restart the kernel to use updated packages.\n"
     ]
    }
   ],
   "source": [
    "%run ../Basic_Models/KNN.ipynb"
   ]
  },
  {
   "cell_type": "code",
   "execution_count": 31,
   "id": "76d1a60c-70fc-4d8a-8647-23e021722956",
   "metadata": {},
   "outputs": [
    {
     "name": "stdout",
     "output_type": "stream",
     "text": [
      "Requirement already satisfied: scikit-learn in c:\\users\\vedsh\\miniconda3\\lib\\site-packages (1.6.0)\n",
      "Requirement already satisfied: numpy>=1.19.5 in c:\\users\\vedsh\\miniconda3\\lib\\site-packages (from scikit-learn) (2.2.1)\n",
      "Requirement already satisfied: scipy>=1.6.0 in c:\\users\\vedsh\\miniconda3\\lib\\site-packages (from scikit-learn) (1.15.0)\n",
      "Requirement already satisfied: joblib>=1.2.0 in c:\\users\\vedsh\\miniconda3\\lib\\site-packages (from scikit-learn) (1.4.2)\n",
      "Requirement already satisfied: threadpoolctl>=3.1.0 in c:\\users\\vedsh\\miniconda3\\lib\\site-packages (from scikit-learn) (3.5.0)\n",
      "Note: you may need to restart the kernel to use updated packages.\n"
     ]
    }
   ],
   "source": [
    "%run ../Basic_Models/LDA.ipynb"
   ]
  },
  {
   "cell_type": "code",
   "execution_count": 32,
   "id": "f7f94189-b1dc-4cd7-b592-a0f9f93bb78d",
   "metadata": {},
   "outputs": [
    {
     "name": "stdout",
     "output_type": "stream",
     "text": [
      "Requirement already satisfied: scikit-learn in c:\\users\\vedsh\\miniconda3\\lib\\site-packages (1.6.0)\n",
      "Requirement already satisfied: numpy>=1.19.5 in c:\\users\\vedsh\\miniconda3\\lib\\site-packages (from scikit-learn) (2.2.1)\n",
      "Requirement already satisfied: scipy>=1.6.0 in c:\\users\\vedsh\\miniconda3\\lib\\site-packages (from scikit-learn) (1.15.0)\n",
      "Requirement already satisfied: joblib>=1.2.0 in c:\\users\\vedsh\\miniconda3\\lib\\site-packages (from scikit-learn) (1.4.2)\n",
      "Requirement already satisfied: threadpoolctl>=3.1.0 in c:\\users\\vedsh\\miniconda3\\lib\\site-packages (from scikit-learn) (3.5.0)\n",
      "Note: you may need to restart the kernel to use updated packages.\n"
     ]
    }
   ],
   "source": [
    "%run ../Basic_Models/QDA.ipynb"
   ]
  },
  {
   "cell_type": "code",
   "execution_count": 33,
   "id": "ad99114b-60da-4a50-af49-34d4e1ce66d1",
   "metadata": {},
   "outputs": [
    {
     "name": "stdout",
     "output_type": "stream",
     "text": [
      "Requirement already satisfied: scikit-learn in c:\\users\\vedsh\\miniconda3\\lib\\site-packages (1.6.0)\n",
      "Requirement already satisfied: numpy>=1.19.5 in c:\\users\\vedsh\\miniconda3\\lib\\site-packages (from scikit-learn) (2.2.1)\n",
      "Requirement already satisfied: scipy>=1.6.0 in c:\\users\\vedsh\\miniconda3\\lib\\site-packages (from scikit-learn) (1.15.0)\n",
      "Requirement already satisfied: joblib>=1.2.0 in c:\\users\\vedsh\\miniconda3\\lib\\site-packages (from scikit-learn) (1.4.2)\n",
      "Requirement already satisfied: threadpoolctl>=3.1.0 in c:\\users\\vedsh\\miniconda3\\lib\\site-packages (from scikit-learn) (3.5.0)\n",
      "Note: you may need to restart the kernel to use updated packages.\n"
     ]
    }
   ],
   "source": [
    "%run ../Basic_Models/Logistic_Regression.ipynb"
   ]
  },
  {
   "cell_type": "code",
   "execution_count": 34,
   "id": "32bdf28c-d863-4c8a-9f67-b5da72df89a6",
   "metadata": {},
   "outputs": [
    {
     "name": "stdout",
     "output_type": "stream",
     "text": [
      "Requirement already satisfied: scikit-learn in c:\\users\\vedsh\\miniconda3\\lib\\site-packages (1.6.0)\n",
      "Requirement already satisfied: numpy>=1.19.5 in c:\\users\\vedsh\\miniconda3\\lib\\site-packages (from scikit-learn) (2.2.1)\n",
      "Requirement already satisfied: scipy>=1.6.0 in c:\\users\\vedsh\\miniconda3\\lib\\site-packages (from scikit-learn) (1.15.0)\n",
      "Requirement already satisfied: joblib>=1.2.0 in c:\\users\\vedsh\\miniconda3\\lib\\site-packages (from scikit-learn) (1.4.2)\n",
      "Requirement already satisfied: threadpoolctl>=3.1.0 in c:\\users\\vedsh\\miniconda3\\lib\\site-packages (from scikit-learn) (3.5.0)\n",
      "Note: you may need to restart the kernel to use updated packages.\n"
     ]
    }
   ],
   "source": [
    "%run ../Tree_Models/Bagging.ipynb"
   ]
  },
  {
   "cell_type": "code",
   "execution_count": 35,
   "id": "752be8f2-a0ab-4e96-a35b-3c341e47eee3",
   "metadata": {},
   "outputs": [
    {
     "name": "stdout",
     "output_type": "stream",
     "text": [
      "Requirement already satisfied: scikit-learn in c:\\users\\vedsh\\miniconda3\\lib\\site-packages (1.6.0)\n",
      "Requirement already satisfied: numpy>=1.19.5 in c:\\users\\vedsh\\miniconda3\\lib\\site-packages (from scikit-learn) (2.2.1)\n",
      "Requirement already satisfied: scipy>=1.6.0 in c:\\users\\vedsh\\miniconda3\\lib\\site-packages (from scikit-learn) (1.15.0)\n",
      "Requirement already satisfied: joblib>=1.2.0 in c:\\users\\vedsh\\miniconda3\\lib\\site-packages (from scikit-learn) (1.4.2)\n",
      "Requirement already satisfied: threadpoolctl>=3.1.0 in c:\\users\\vedsh\\miniconda3\\lib\\site-packages (from scikit-learn) (3.5.0)\n",
      "Note: you may need to restart the kernel to use updated packages.\n"
     ]
    }
   ],
   "source": [
    "%run ../Tree_Models/Boosting.ipynb"
   ]
  },
  {
   "cell_type": "code",
   "execution_count": 36,
   "id": "d2ff9149-7d91-43d2-9727-b46ad8f1db0a",
   "metadata": {},
   "outputs": [
    {
     "name": "stdout",
     "output_type": "stream",
     "text": [
      "Requirement already satisfied: scikit-learn in c:\\users\\vedsh\\miniconda3\\lib\\site-packages (1.6.0)\n",
      "Requirement already satisfied: numpy>=1.19.5 in c:\\users\\vedsh\\miniconda3\\lib\\site-packages (from scikit-learn) (2.2.1)\n",
      "Requirement already satisfied: scipy>=1.6.0 in c:\\users\\vedsh\\miniconda3\\lib\\site-packages (from scikit-learn) (1.15.0)\n",
      "Requirement already satisfied: joblib>=1.2.0 in c:\\users\\vedsh\\miniconda3\\lib\\site-packages (from scikit-learn) (1.4.2)\n",
      "Requirement already satisfied: threadpoolctl>=3.1.0 in c:\\users\\vedsh\\miniconda3\\lib\\site-packages (from scikit-learn) (3.5.0)\n",
      "Note: you may need to restart the kernel to use updated packages.\n"
     ]
    }
   ],
   "source": [
    "%run ../Tree_Models/Classification_Tree.ipynb"
   ]
  },
  {
   "cell_type": "code",
   "execution_count": 37,
   "id": "df4b13b1-41b2-44e9-a93f-6f53cfc7f012",
   "metadata": {},
   "outputs": [
    {
     "name": "stdout",
     "output_type": "stream",
     "text": [
      "Requirement already satisfied: scikit-learn in c:\\users\\vedsh\\miniconda3\\lib\\site-packages (1.6.0)\n",
      "Requirement already satisfied: numpy>=1.19.5 in c:\\users\\vedsh\\miniconda3\\lib\\site-packages (from scikit-learn) (2.2.1)\n",
      "Requirement already satisfied: scipy>=1.6.0 in c:\\users\\vedsh\\miniconda3\\lib\\site-packages (from scikit-learn) (1.15.0)\n",
      "Requirement already satisfied: joblib>=1.2.0 in c:\\users\\vedsh\\miniconda3\\lib\\site-packages (from scikit-learn) (1.4.2)\n",
      "Requirement already satisfied: threadpoolctl>=3.1.0 in c:\\users\\vedsh\\miniconda3\\lib\\site-packages (from scikit-learn) (3.5.0)\n",
      "Note: you may need to restart the kernel to use updated packages.\n"
     ]
    }
   ],
   "source": [
    "%run ../Tree_Models/Random_Forest.ipynb"
   ]
  },
  {
   "cell_type": "code",
   "execution_count": 38,
   "id": "9fdc5bf6-a389-47dc-9aba-3fd6040a376c",
   "metadata": {},
   "outputs": [],
   "source": [
    "#loading the training dataset \n",
    "train_path = Path(\"../Data/premierleague_team_data.csv\")\n",
    "matches = pd.read_csv(train_path)\n",
    "\n",
    "#loading the testing data \n",
    "test_path = Path(\"../Data/premierleague_test_team_data.csv\")\n",
    "test_matches = pd.read_csv(test_path)"
   ]
  },
  {
   "cell_type": "code",
   "execution_count": 39,
   "id": "dc7f0daa-8f58-4ad2-b701-7efebb45cc73",
   "metadata": {},
   "outputs": [],
   "source": [
    "#loading the training dataset with rank\n",
    "train_path = Path(\"../Data/premierleague_rank_team_data.csv\")\n",
    "new_matches = pd.read_csv(train_path)\n",
    "\n",
    "#loading the testing data with rank\n",
    "test_path = Path(\"../Data/premierleague_rank_test_team_data.csv\")\n",
    "new_test_matches = pd.read_csv(test_path)"
   ]
  },
  {
   "cell_type": "code",
   "execution_count": 40,
   "id": "f32eacc3-741e-4236-97b7-c7f6a0ad4de7",
   "metadata": {},
   "outputs": [],
   "source": [
    "matches[\"Date\"] = pd.to_datetime(matches[\"Date\"])\n",
    "matches[\"Venue_code\"] = matches[\"Venue\"].astype(\"category\").cat.codes\n",
    "matches[\"Opp_code\"] = matches[\"Opponent\"].astype(\"category\").cat.codes\n",
    "matches[\"Hour\"] = matches[\"Time\"].str.replace(\":.+\", \"\", regex=True).fillna(\"0\").astype(\"int\")\n",
    "matches[\"Day_code\"] = matches[\"Date\"].dt.dayofweek\n",
    "matches[\"Target\"]=(matches[\"Result\"] == \"W\").astype(\"int\")"
   ]
  },
  {
   "cell_type": "code",
   "execution_count": 41,
   "id": "12e6e854-23b7-4fc1-b99c-504050124634",
   "metadata": {},
   "outputs": [],
   "source": [
    "test_matches[\"Date\"] = pd.to_datetime(test_matches[\"Date\"])\n",
    "test_matches[\"Venue_code\"] = test_matches[\"Venue\"].astype(\"category\").cat.codes\n",
    "test_matches[\"Opp_code\"] = test_matches[\"Opponent\"].astype(\"category\").cat.codes\n",
    "test_matches[\"Hour\"] = test_matches[\"Time\"].str.replace(\":.+\", \"\", regex=True).fillna(\"0\").astype(\"int\")\n",
    "test_matches[\"Day_code\"] = test_matches[\"Date\"].dt.dayofweek\n",
    "test_matches[\"Target\"]=(test_matches[\"Result\"] == \"W\").astype(\"int\")"
   ]
  },
  {
   "cell_type": "code",
   "execution_count": 42,
   "id": "80771e09-a42a-416a-9342-740d0dcb3fff",
   "metadata": {},
   "outputs": [],
   "source": [
    "new_matches[\"Date\"] = pd.to_datetime(new_matches[\"Date\"])\n",
    "new_matches[\"Venue_code\"] = new_matches[\"Venue\"].astype(\"category\").cat.codes\n",
    "new_matches[\"Opp_code\"] = new_matches[\"Opponent\"].astype(\"category\").cat.codes\n",
    "new_matches[\"Hour\"] = new_matches[\"Time\"].str.replace(\":.+\", \"\", regex=True).fillna(\"0\").astype(\"int\")\n",
    "new_matches[\"Day_code\"] = new_matches[\"Date\"].dt.dayofweek\n",
    "new_matches[\"Target\"]=(new_matches[\"Result\"] == \"W\").astype(\"int\")"
   ]
  },
  {
   "cell_type": "code",
   "execution_count": 43,
   "id": "d9977f68-8252-472f-b1f4-ea1aefd9d9fe",
   "metadata": {},
   "outputs": [],
   "source": [
    "new_test_matches[\"Date\"] = pd.to_datetime(new_test_matches[\"Date\"])\n",
    "new_test_matches[\"Venue_code\"] = new_test_matches[\"Venue\"].astype(\"category\").cat.codes\n",
    "new_test_matches[\"Opp_code\"] = new_test_matches[\"Opponent\"].astype(\"category\").cat.codes\n",
    "new_test_matches[\"Hour\"] = new_test_matches[\"Time\"].str.replace(\":.+\", \"\", regex=True).fillna(\"0\").astype(\"int\")\n",
    "new_test_matches[\"Day_code\"] = new_test_matches[\"Date\"].dt.dayofweek\n",
    "new_test_matches[\"Target\"]=(new_test_matches[\"Result\"] == \"W\").astype(\"int\")"
   ]
  },
  {
   "cell_type": "code",
   "execution_count": 44,
   "id": "64346bae-3ad7-45c8-bf9a-82700e59e42f",
   "metadata": {},
   "outputs": [
    {
     "name": "stdout",
     "output_type": "stream",
     "text": [
      "Best C: 1.274275 with Accuracy: 0.6187\n",
      "Best Model Per Year (by Accuracy):\n",
      "                 Model  Year  Precision  Accuracy\n",
      "0  K-Nearest Neighbors  2013   0.681445  0.689474\n",
      "1  K-Nearest Neighbors  2014   0.626296  0.642105\n",
      "2  K-Nearest Neighbors  2015   0.637908  0.655263\n",
      "3  K-Nearest Neighbors  2016   0.664583  0.674603\n",
      "4  K-Nearest Neighbors  2017   0.676626  0.678304\n",
      "5  K-Nearest Neighbors  2018   0.643849  0.657895\n",
      "\n",
      "Best Model Per Year (by Precision):\n",
      "                           Model  Year  Precision  Accuracy\n",
      "6   Linear Discriminant Analysis  2013   0.764024  0.618421\n",
      "7   Linear Discriminant Analysis  2014   0.762509  0.611842\n",
      "8   Linear Discriminant Analysis  2015   0.765625  0.625000\n",
      "9   Linear Discriminant Analysis  2016   0.765791  0.625661\n",
      "10  Linear Discriminant Analysis  2017   0.764931  0.622195\n",
      "11  Linear Discriminant Analysis  2018   0.765808  0.625731\n",
      "\n",
      "Overall Best Model (by Accuracy):\n",
      "Model: K-Nearest Neighbors, Avg Precision: 0.6551, Avg Accuracy: 0.6663\n",
      "\n",
      "Overall Best Model (by Precision):\n",
      "Model: Linear Discriminant Analysis, Avg Precision: 0.7648, Avg Accuracy: 0.6215\n"
     ]
    }
   ],
   "source": [
    "best_basic_model_baseline(matches,matches)"
   ]
  },
  {
   "cell_type": "code",
   "execution_count": 47,
   "id": "f4d208c3-77a9-44ea-b3a2-7a6f79b2360e",
   "metadata": {},
   "outputs": [
    {
     "name": "stdout",
     "output_type": "stream",
     "text": [
      "Best ccp_alpha: 0.000865 with Accuracy: 0.6453\n",
      "Best ccp_alpha: 0.000865 with Accuracy: 0.6453\n",
      "Best ccp_alpha: 0.000865 with Accuracy: 0.6453\n",
      "Best ccp_alpha: 0.000865 with Accuracy: 0.6453\n",
      "Best Model Per Year (by Accuracy):\n",
      "            Model  Year  Precision  Accuracy\n",
      "18  Random Forest  2013   0.748812  0.752632\n",
      "19  Random Forest  2014   0.701010  0.706579\n",
      "20  Random Forest  2015   0.695327  0.701316\n",
      "21  Random Forest  2016   0.722408  0.723545\n",
      "22  Random Forest  2017   0.729307  0.726933\n",
      "23  Random Forest  2018   0.693971  0.695906\n",
      "\n",
      "Best Model Per Year (by Precision):\n",
      "            Model  Year  Precision  Accuracy\n",
      "18  Random Forest  2013   0.748812  0.752632\n",
      "19  Random Forest  2014   0.701010  0.706579\n",
      "20  Random Forest  2015   0.695327  0.701316\n",
      "21  Random Forest  2016   0.722408  0.723545\n",
      "22  Random Forest  2017   0.729307  0.726933\n",
      "23  Random Forest  2018   0.693971  0.695906\n",
      "\n",
      "Overall Best Model (by Accuracy):\n",
      "Model: Random Forest, Avg Precision: 0.7151, Avg Accuracy: 0.7178\n",
      "\n",
      "Overall Best Model (by Precision):\n",
      "Model: Random Forest, Avg Precision: 0.7151, Avg Accuracy: 0.7178\n"
     ]
    }
   ],
   "source": [
    "best_tree_model_baseline(matches,matches)"
   ]
  },
  {
   "cell_type": "code",
   "execution_count": 48,
   "id": "c8b2b6df-2765-4d13-8d1b-356305f3b2f8",
   "metadata": {},
   "outputs": [
    {
     "name": "stdout",
     "output_type": "stream",
     "text": [
      "Best C: 0.010000 with Accuracy: 0.6151\n",
      "Best Model Per Year (by Accuracy):\n",
      "                 Model  Year  Precision  Accuracy\n",
      "0  K-Nearest Neighbors  2019   0.620452  0.640704\n",
      "1  K-Nearest Neighbors  2020   0.691893  0.691964\n",
      "2  K-Nearest Neighbors  2021   0.649310  0.658088\n",
      "3  K-Nearest Neighbors  2022   0.652526  0.656510\n",
      "4  K-Nearest Neighbors  2023   0.632876  0.648148\n",
      "\n",
      "Best Model Per Year (by Precision):\n",
      "                          Model  Year  Precision  Accuracy\n",
      "5  Linear Discriminant Analysis  2019   0.764545  0.620603\n",
      "6  Linear Discriminant Analysis  2020   0.765255  0.623512\n",
      "7  Linear Discriminant Analysis  2021   0.762989  0.613971\n",
      "8  Linear Discriminant Analysis  2022   0.761080  0.605263\n",
      "9  Linear Discriminant Analysis  2023   0.763396  0.615741\n",
      "\n",
      "Overall Best Model (by Accuracy):\n",
      "Model: K-Nearest Neighbors, Avg Precision: 0.6494, Avg Accuracy: 0.6591\n",
      "\n",
      "Overall Best Model (by Precision):\n",
      "Model: Linear Discriminant Analysis, Avg Precision: 0.7635, Avg Accuracy: 0.6158\n"
     ]
    }
   ],
   "source": [
    "best_basic_model_baseline(test_matches,test_matches)"
   ]
  },
  {
   "cell_type": "code",
   "execution_count": 49,
   "id": "c3c505a7-4442-491e-a330-8b3bf80f707a",
   "metadata": {},
   "outputs": [
    {
     "name": "stdout",
     "output_type": "stream",
     "text": [
      "Best ccp_alpha: 0.000363 with Accuracy: 0.6171\n",
      "Best ccp_alpha: 0.000363 with Accuracy: 0.6171\n",
      "Best ccp_alpha: 0.000363 with Accuracy: 0.6171\n",
      "Best ccp_alpha: 0.000363 with Accuracy: 0.6171\n",
      "Best Model Per Year (by Accuracy):\n",
      "            Model  Year  Precision  Accuracy\n",
      "0         Bagging  2019   0.662171  0.673367\n",
      "16  Random Forest  2020   0.755964  0.757440\n",
      "17  Random Forest  2021   0.730728  0.732843\n",
      "18  Random Forest  2022   0.704323  0.706371\n",
      "19  Random Forest  2023   0.663433  0.673611\n",
      "\n",
      "Best Model Per Year (by Precision):\n",
      "            Model  Year  Precision  Accuracy\n",
      "15  Random Forest  2019   0.662928  0.673367\n",
      "16  Random Forest  2020   0.755964  0.757440\n",
      "17  Random Forest  2021   0.730728  0.732843\n",
      "18  Random Forest  2022   0.704323  0.706371\n",
      "19  Random Forest  2023   0.663433  0.673611\n",
      "\n",
      "Overall Best Model (by Accuracy):\n",
      "Model: Random Forest, Avg Precision: 0.7035, Avg Accuracy: 0.7087\n",
      "\n",
      "Overall Best Model (by Precision):\n",
      "Model: Random Forest, Avg Precision: 0.7035, Avg Accuracy: 0.7087\n"
     ]
    }
   ],
   "source": [
    "best_tree_model_baseline(test_matches,test_matches)"
   ]
  },
  {
   "cell_type": "code",
   "execution_count": 50,
   "id": "849829c3-5e6c-45df-86c6-1b0dadb0830b",
   "metadata": {},
   "outputs": [
    {
     "name": "stdout",
     "output_type": "stream",
     "text": [
      "Best C: 0.010000 with Accuracy: 0.6502\n",
      "Best Model Per Year (by Accuracy):\n",
      "                              Model  Year  Precision  Accuracy\n",
      "0               K-Nearest Neighbors  2014   0.730577  0.725000\n",
      "16  Quadratic Discriminant Analysis  2015   0.629613  0.648469\n",
      "2               K-Nearest Neighbors  2016   0.618188  0.641434\n",
      "3               K-Nearest Neighbors  2017   0.670910  0.673367\n",
      "9      Linear Discriminant Analysis  2018   0.690775  0.684211\n",
      "\n",
      "Best Model Per Year (by Precision):\n",
      "                              Model  Year  Precision  Accuracy\n",
      "0               K-Nearest Neighbors  2014   0.730577  0.725000\n",
      "16  Quadratic Discriminant Analysis  2015   0.629613  0.648469\n",
      "12              Logistic Regression  2016   0.625235  0.596282\n",
      "3               K-Nearest Neighbors  2017   0.670910  0.673367\n",
      "9      Linear Discriminant Analysis  2018   0.690775  0.684211\n",
      "\n",
      "Overall Best Model (by Accuracy):\n",
      "Model: K-Nearest Neighbors, Avg Precision: 0.6636, Avg Accuracy: 0.6708\n",
      "\n",
      "Overall Best Model (by Precision):\n",
      "Model: K-Nearest Neighbors, Avg Precision: 0.6636, Avg Accuracy: 0.6708\n"
     ]
    }
   ],
   "source": [
    "best_basic_model_rolling(matches,matches)"
   ]
  },
  {
   "cell_type": "code",
   "execution_count": 51,
   "id": "58c8673a-dd21-459d-acef-7b0a5cb01727",
   "metadata": {},
   "outputs": [
    {
     "name": "stdout",
     "output_type": "stream",
     "text": [
      "Best C: 0.695193 with Accuracy: 0.6307\n",
      "Best Model Per Year (by Accuracy):\n",
      "                 Model  Year  Precision  Accuracy\n",
      "0  K-Nearest Neighbors  2019   0.706951  0.704142\n",
      "1  K-Nearest Neighbors  2020   0.676440  0.678733\n",
      "2  K-Nearest Neighbors  2021   0.658287  0.661747\n",
      "3  K-Nearest Neighbors  2022   0.694811  0.689847\n",
      "4  K-Nearest Neighbors  2023   0.673624  0.675926\n",
      "\n",
      "Best Model Per Year (by Precision):\n",
      "                 Model  Year  Precision  Accuracy\n",
      "0  K-Nearest Neighbors  2019   0.706951  0.704142\n",
      "1  K-Nearest Neighbors  2020   0.676440  0.678733\n",
      "2  K-Nearest Neighbors  2021   0.658287  0.661747\n",
      "3  K-Nearest Neighbors  2022   0.694811  0.689847\n",
      "4  K-Nearest Neighbors  2023   0.673624  0.675926\n",
      "\n",
      "Overall Best Model (by Accuracy):\n",
      "Model: K-Nearest Neighbors, Avg Precision: 0.6820, Avg Accuracy: 0.6821\n",
      "\n",
      "Overall Best Model (by Precision):\n",
      "Model: K-Nearest Neighbors, Avg Precision: 0.6820, Avg Accuracy: 0.6821\n"
     ]
    }
   ],
   "source": [
    "best_basic_model_rolling(test_matches,test_matches)"
   ]
  },
  {
   "cell_type": "code",
   "execution_count": 52,
   "id": "11393b47-8278-4cff-b3cb-aa1900a4a84d",
   "metadata": {},
   "outputs": [
    {
     "name": "stdout",
     "output_type": "stream",
     "text": [
      "Best ccp_alpha: 0.002383 with Accuracy: 0.6438\n",
      "Best ccp_alpha: 0.002383 with Accuracy: 0.6438\n",
      "Best ccp_alpha: 0.002383 with Accuracy: 0.6438\n",
      "Best ccp_alpha: 0.002383 with Accuracy: 0.6438\n",
      "Best Model Per Year (by Accuracy):\n",
      "      Model  Year  Precision  Accuracy\n",
      "5  Boosting  2014   0.987538  0.987500\n",
      "6  Boosting  2015   0.981732  0.981358\n",
      "7  Boosting  2016   0.990840  0.990704\n",
      "8  Boosting  2017   0.991260  0.991206\n",
      "9  Boosting  2018   0.985714  0.985380\n",
      "\n",
      "Best Model Per Year (by Precision):\n",
      "      Model  Year  Precision  Accuracy\n",
      "5  Boosting  2014   0.987538  0.987500\n",
      "6  Boosting  2015   0.981732  0.981358\n",
      "7  Boosting  2016   0.990840  0.990704\n",
      "8  Boosting  2017   0.991260  0.991206\n",
      "9  Boosting  2018   0.985714  0.985380\n",
      "\n",
      "Overall Best Model (by Accuracy):\n",
      "Model: Boosting, Avg Precision: 0.9874, Avg Accuracy: 0.9872\n",
      "\n",
      "Overall Best Model (by Precision):\n",
      "Model: Boosting, Avg Precision: 0.9874, Avg Accuracy: 0.9872\n"
     ]
    }
   ],
   "source": [
    "best_tree_model_rollling(matches,matches)"
   ]
  },
  {
   "cell_type": "code",
   "execution_count": 53,
   "id": "a83b3be8-b458-4324-8fae-71570b48ff68",
   "metadata": {},
   "outputs": [
    {
     "name": "stdout",
     "output_type": "stream",
     "text": [
      "Best ccp_alpha: 0.001138 with Accuracy: 0.6115\n",
      "Best ccp_alpha: 0.001138 with Accuracy: 0.6115\n",
      "Best ccp_alpha: 0.001138 with Accuracy: 0.6115\n",
      "Best ccp_alpha: 0.001138 with Accuracy: 0.6115\n",
      "Best Model Per Year (by Accuracy):\n",
      "      Model  Year  Precision  Accuracy\n",
      "5  Boosting  2019   0.991250  0.991124\n",
      "6  Boosting  2020   0.991080  0.990950\n",
      "7  Boosting  2021   0.984284  0.984010\n",
      "8  Boosting  2022   0.991699  0.991655\n",
      "9  Boosting  2023   0.988487  0.988426\n",
      "\n",
      "Best Model Per Year (by Precision):\n",
      "      Model  Year  Precision  Accuracy\n",
      "5  Boosting  2019   0.991250  0.991124\n",
      "6  Boosting  2020   0.991080  0.990950\n",
      "7  Boosting  2021   0.984284  0.984010\n",
      "8  Boosting  2022   0.991699  0.991655\n",
      "9  Boosting  2023   0.988487  0.988426\n",
      "\n",
      "Overall Best Model (by Accuracy):\n",
      "Model: Boosting, Avg Precision: 0.9894, Avg Accuracy: 0.9892\n",
      "\n",
      "Overall Best Model (by Precision):\n",
      "Model: Boosting, Avg Precision: 0.9894, Avg Accuracy: 0.9892\n"
     ]
    }
   ],
   "source": [
    "best_tree_model_rollling(test_matches,test_matches)"
   ]
  },
  {
   "cell_type": "code",
   "execution_count": 55,
   "id": "13f2c11c-e0ee-406b-add5-789de418d21b",
   "metadata": {},
   "outputs": [
    {
     "name": "stdout",
     "output_type": "stream",
     "text": [
      "Best ccp_alpha: 0.001493 with Accuracy: 0.6729\n",
      "Best ccp_alpha: 0.001493 with Accuracy: 0.6729\n",
      "Best ccp_alpha: 0.001493 with Accuracy: 0.6729\n",
      "Best ccp_alpha: 0.001493 with Accuracy: 0.6729\n",
      "Best Model Per Year (by Accuracy):\n",
      "      Model  Year  Precision  Accuracy\n",
      "5  Boosting  2014   0.981444  0.981250\n",
      "6  Boosting  2015   0.984014  0.984021\n",
      "7  Boosting  2016   0.988272  0.988048\n",
      "8  Boosting  2017   0.991329  0.991206\n",
      "9  Boosting  2018   0.980180  0.979532\n",
      "\n",
      "Best Model Per Year (by Precision):\n",
      "      Model  Year  Precision  Accuracy\n",
      "5  Boosting  2014   0.981444  0.981250\n",
      "6  Boosting  2015   0.984014  0.984021\n",
      "7  Boosting  2016   0.988272  0.988048\n",
      "8  Boosting  2017   0.991329  0.991206\n",
      "9  Boosting  2018   0.980180  0.979532\n",
      "\n",
      "Overall Best Model (by Accuracy):\n",
      "Model: Boosting, Avg Precision: 0.9850, Avg Accuracy: 0.9848\n",
      "\n",
      "Overall Best Model (by Precision):\n",
      "Model: Boosting, Avg Precision: 0.9850, Avg Accuracy: 0.9848\n"
     ]
    }
   ],
   "source": [
    "best_tree_model_full(new_matches,new_matches)"
   ]
  },
  {
   "cell_type": "code",
   "execution_count": 56,
   "id": "a2b32912-5776-42aa-a177-38399f45e89f",
   "metadata": {},
   "outputs": [
    {
     "name": "stdout",
     "output_type": "stream",
     "text": [
      "Best ccp_alpha: 0.001280 with Accuracy: 0.6391\n",
      "Best ccp_alpha: 0.001280 with Accuracy: 0.6391\n",
      "Best ccp_alpha: 0.001280 with Accuracy: 0.6391\n",
      "Best ccp_alpha: 0.001280 with Accuracy: 0.6391\n",
      "Best Model Per Year (by Accuracy):\n",
      "      Model  Year  Precision  Accuracy\n",
      "5  Boosting  2019   1.000000  1.000000\n",
      "6  Boosting  2020   0.996983  0.996983\n",
      "7  Boosting  2021   0.996311  0.996310\n",
      "8  Boosting  2022   0.993125  0.993046\n",
      "9  Boosting  2023   0.997699  0.997685\n",
      "\n",
      "Best Model Per Year (by Precision):\n",
      "      Model  Year  Precision  Accuracy\n",
      "5  Boosting  2019   1.000000  1.000000\n",
      "6  Boosting  2020   0.996983  0.996983\n",
      "7  Boosting  2021   0.996311  0.996310\n",
      "8  Boosting  2022   0.993125  0.993046\n",
      "9  Boosting  2023   0.997699  0.997685\n",
      "\n",
      "Overall Best Model (by Accuracy):\n",
      "Model: Boosting, Avg Precision: 0.9968, Avg Accuracy: 0.9968\n",
      "\n",
      "Overall Best Model (by Precision):\n",
      "Model: Boosting, Avg Precision: 0.9968, Avg Accuracy: 0.9968\n"
     ]
    }
   ],
   "source": [
    "best_tree_model_full(new_test_matches,new_test_matches)"
   ]
  },
  {
   "cell_type": "code",
   "execution_count": 57,
   "id": "a806f90b-9592-4001-98c5-4332b89f5b62",
   "metadata": {},
   "outputs": [
    {
     "name": "stdout",
     "output_type": "stream",
     "text": [
      "Best C: 1.274275 with Accuracy: 0.6776\n",
      "Best Model Per Year (by Accuracy):\n",
      "                              Model  Year  Precision  Accuracy\n",
      "0               K-Nearest Neighbors  2014   0.719585  0.721875\n",
      "1               K-Nearest Neighbors  2015   0.680942  0.683089\n",
      "17  Quadratic Discriminant Analysis  2016   0.712299  0.715803\n",
      "8      Linear Discriminant Analysis  2017   0.695904  0.703518\n",
      "9      Linear Discriminant Analysis  2018   0.683330  0.692982\n",
      "\n",
      "Best Model Per Year (by Precision):\n",
      "                              Model  Year  Precision  Accuracy\n",
      "0               K-Nearest Neighbors  2014   0.719585  0.721875\n",
      "1               K-Nearest Neighbors  2015   0.680942  0.683089\n",
      "17  Quadratic Discriminant Analysis  2016   0.712299  0.715803\n",
      "3               K-Nearest Neighbors  2017   0.702042  0.699749\n",
      "9      Linear Discriminant Analysis  2018   0.683330  0.692982\n",
      "\n",
      "Overall Best Model (by Accuracy):\n",
      "Model: Quadratic Discriminant Analysis, Avg Precision: 0.6867, Avg Accuracy: 0.6920\n",
      "\n",
      "Overall Best Model (by Precision):\n",
      "Model: K-Nearest Neighbors, Avg Precision: 0.6893, Avg Accuracy: 0.6917\n"
     ]
    }
   ],
   "source": [
    " best_basic_model_full(new_matches,new_matches)"
   ]
  },
  {
   "cell_type": "code",
   "execution_count": 58,
   "id": "e6189521-c32c-4318-88a1-0cde92a31a68",
   "metadata": {},
   "outputs": [
    {
     "name": "stdout",
     "output_type": "stream",
     "text": [
      "Best C: 14.384499 with Accuracy: 0.6597\n",
      "Best Model Per Year (by Accuracy):\n",
      "                              Model  Year  Precision  Accuracy\n",
      "0               K-Nearest Neighbors  2019   0.656784  0.665680\n",
      "1               K-Nearest Neighbors  2020   0.680339  0.686275\n",
      "17  Quadratic Discriminant Analysis  2021   0.652847  0.662977\n",
      "3               K-Nearest Neighbors  2022   0.706203  0.703755\n",
      "4               K-Nearest Neighbors  2023   0.645563  0.657407\n",
      "\n",
      "Best Model Per Year (by Precision):\n",
      "                              Model  Year  Precision  Accuracy\n",
      "0               K-Nearest Neighbors  2019   0.656784  0.665680\n",
      "1               K-Nearest Neighbors  2020   0.680339  0.686275\n",
      "17  Quadratic Discriminant Analysis  2021   0.652847  0.662977\n",
      "3               K-Nearest Neighbors  2022   0.706203  0.703755\n",
      "4               K-Nearest Neighbors  2023   0.645563  0.657407\n",
      "\n",
      "Overall Best Model (by Accuracy):\n",
      "Model: K-Nearest Neighbors, Avg Precision: 0.6659, Avg Accuracy: 0.6733\n",
      "\n",
      "Overall Best Model (by Precision):\n",
      "Model: K-Nearest Neighbors, Avg Precision: 0.6659, Avg Accuracy: 0.6733\n"
     ]
    }
   ],
   "source": [
    " best_basic_model_full(new_test_matches,new_test_matches)"
   ]
  },
  {
   "cell_type": "code",
   "execution_count": null,
   "id": "6a6f610d-1a5b-4d2c-b318-0752543be3c2",
   "metadata": {},
   "outputs": [],
   "source": []
  }
 ],
 "metadata": {
  "kernelspec": {
   "display_name": "Python 3 (ipykernel)",
   "language": "python",
   "name": "python3"
  },
  "language_info": {
   "codemirror_mode": {
    "name": "ipython",
    "version": 3
   },
   "file_extension": ".py",
   "mimetype": "text/x-python",
   "name": "python",
   "nbconvert_exporter": "python",
   "pygments_lexer": "ipython3",
   "version": "3.12.3"
  }
 },
 "nbformat": 4,
 "nbformat_minor": 5
}
