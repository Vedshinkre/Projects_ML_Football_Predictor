{
 "cells": [
  {
   "cell_type": "code",
   "execution_count": 190,
   "id": "b646408a-6917-4e2a-af84-a275f749aaa5",
   "metadata": {},
   "outputs": [],
   "source": [
    "#downloading all the necesaary dependecies\n",
    "import pandas as pd\n",
    "import numpy as np\n",
    "from pathlib import Path\n",
    "from sklearn.neighbors import KNeighborsClassifier\n",
    "from sklearn.discriminant_analysis import LinearDiscriminantAnalysis\n",
    "from sklearn.linear_model import LogisticRegression\n",
    "from sklearn.discriminant_analysis import QuadraticDiscriminantAnalysis\n",
    "from sklearn.metrics import accuracy_score, precision_score\n",
    "from sklearn.model_selection import cross_val_score, KFold\n",
    "from sklearn.model_selection import GridSearchCV\n",
    "from sklearn.tree import DecisionTreeClassifier\n",
    "from sklearn.ensemble import BaggingClassifier\n",
    "from sklearn.ensemble import RandomForestClassifier\n",
    "from sklearn.ensemble import GradientBoostingClassifier"
   ]
  },
  {
   "cell_type": "code",
   "execution_count": 191,
   "id": "ff8764ba-fd28-4a69-a8cf-23860f263407",
   "metadata": {},
   "outputs": [
    {
     "name": "stdout",
     "output_type": "stream",
     "text": [
      "Requirement already satisfied: scikit-learn in c:\\users\\vedsh\\miniconda3\\lib\\site-packages (1.6.0)\n",
      "Requirement already satisfied: numpy>=1.19.5 in c:\\users\\vedsh\\miniconda3\\lib\\site-packages (from scikit-learn) (2.2.1)\n",
      "Requirement already satisfied: scipy>=1.6.0 in c:\\users\\vedsh\\miniconda3\\lib\\site-packages (from scikit-learn) (1.15.0)\n",
      "Requirement already satisfied: joblib>=1.2.0 in c:\\users\\vedsh\\miniconda3\\lib\\site-packages (from scikit-learn) (1.4.2)\n",
      "Requirement already satisfied: threadpoolctl>=3.1.0 in c:\\users\\vedsh\\miniconda3\\lib\\site-packages (from scikit-learn) (3.5.0)\n",
      "Note: you may need to restart the kernel to use updated packages.\n"
     ]
    }
   ],
   "source": [
    "pip install scikit-learn"
   ]
  },
  {
   "cell_type": "code",
   "execution_count": 192,
   "id": "c75ab32d-be82-4116-84b6-93d1b44671ed",
   "metadata": {},
   "outputs": [],
   "source": [
    "%run ../Data/Data_Formatting.ipynb"
   ]
  },
  {
   "cell_type": "code",
   "execution_count": 193,
   "id": "b321b023-04ee-4261-ac8d-b1c2dca001df",
   "metadata": {},
   "outputs": [],
   "source": [
    "%run ../Data/Ultimate_Hyperparameters.ipynb"
   ]
  },
  {
   "cell_type": "code",
   "execution_count": 194,
   "id": "d7a274b9-9f1a-499a-ae32-cfcc69af1056",
   "metadata": {},
   "outputs": [],
   "source": [
    "%run ../Data/Parameters.ipynb"
   ]
  },
  {
   "cell_type": "code",
   "execution_count": 195,
   "id": "41bc2b00-ab81-489f-9518-541605eeafb4",
   "metadata": {},
   "outputs": [],
   "source": [
    "%run ../Basic_Models/KNN.ipynb"
   ]
  },
  {
   "cell_type": "code",
   "execution_count": 196,
   "id": "76d1a60c-70fc-4d8a-8647-23e021722956",
   "metadata": {},
   "outputs": [],
   "source": [
    "%run ../Basic_Models/LDA.ipynb"
   ]
  },
  {
   "cell_type": "code",
   "execution_count": 197,
   "id": "f7f94189-b1dc-4cd7-b592-a0f9f93bb78d",
   "metadata": {},
   "outputs": [],
   "source": [
    "%run ../Basic_Models/QDA.ipynb"
   ]
  },
  {
   "cell_type": "code",
   "execution_count": 198,
   "id": "ad99114b-60da-4a50-af49-34d4e1ce66d1",
   "metadata": {},
   "outputs": [],
   "source": [
    "%run ../Basic_Models/Logistic_Regression.ipynb"
   ]
  },
  {
   "cell_type": "code",
   "execution_count": 199,
   "id": "32bdf28c-d863-4c8a-9f67-b5da72df89a6",
   "metadata": {},
   "outputs": [],
   "source": [
    "%run ../Tree_Models/Bagging.ipynb"
   ]
  },
  {
   "cell_type": "code",
   "execution_count": 200,
   "id": "752be8f2-a0ab-4e96-a35b-3c341e47eee3",
   "metadata": {},
   "outputs": [],
   "source": [
    "%run ../Tree_Models/Boosting.ipynb"
   ]
  },
  {
   "cell_type": "code",
   "execution_count": 201,
   "id": "d2ff9149-7d91-43d2-9727-b46ad8f1db0a",
   "metadata": {},
   "outputs": [],
   "source": [
    "%run ../Tree_Models/Classification_Tree.ipynb"
   ]
  },
  {
   "cell_type": "code",
   "execution_count": 202,
   "id": "df4b13b1-41b2-44e9-a93f-6f53cfc7f012",
   "metadata": {},
   "outputs": [],
   "source": [
    "%run ../Tree_Models/Random_Forest.ipynb"
   ]
  },
  {
   "cell_type": "code",
   "execution_count": 203,
   "id": "e4af43f5-887e-445c-835a-66192de96ef9",
   "metadata": {},
   "outputs": [
    {
     "name": "stdout",
     "output_type": "stream",
     "text": [
      "Requirement already satisfied: scikit-learn in c:\\users\\vedsh\\miniconda3\\lib\\site-packages (1.6.0)\n",
      "Requirement already satisfied: numpy>=1.19.5 in c:\\users\\vedsh\\miniconda3\\lib\\site-packages (from scikit-learn) (2.2.1)\n",
      "Requirement already satisfied: scipy>=1.6.0 in c:\\users\\vedsh\\miniconda3\\lib\\site-packages (from scikit-learn) (1.15.0)\n",
      "Requirement already satisfied: joblib>=1.2.0 in c:\\users\\vedsh\\miniconda3\\lib\\site-packages (from scikit-learn) (1.4.2)\n",
      "Requirement already satisfied: threadpoolctl>=3.1.0 in c:\\users\\vedsh\\miniconda3\\lib\\site-packages (from scikit-learn) (3.5.0)\n",
      "Note: you may need to restart the kernel to use updated packages.\n"
     ]
    }
   ],
   "source": [
    "%run ../Tree_Models/Model_Selection.ipynb"
   ]
  },
  {
   "cell_type": "code",
   "execution_count": 204,
   "id": "a723a88e-0945-4da4-bdc7-e0b61da0b4b8",
   "metadata": {},
   "outputs": [
    {
     "name": "stdout",
     "output_type": "stream",
     "text": [
      "Requirement already satisfied: scikit-learn in c:\\users\\vedsh\\miniconda3\\lib\\site-packages (1.6.0)\n",
      "Requirement already satisfied: numpy>=1.19.5 in c:\\users\\vedsh\\miniconda3\\lib\\site-packages (from scikit-learn) (2.2.1)\n",
      "Requirement already satisfied: scipy>=1.6.0 in c:\\users\\vedsh\\miniconda3\\lib\\site-packages (from scikit-learn) (1.15.0)\n",
      "Requirement already satisfied: joblib>=1.2.0 in c:\\users\\vedsh\\miniconda3\\lib\\site-packages (from scikit-learn) (1.4.2)\n",
      "Requirement already satisfied: threadpoolctl>=3.1.0 in c:\\users\\vedsh\\miniconda3\\lib\\site-packages (from scikit-learn) (3.5.0)\n",
      "Note: you may need to restart the kernel to use updated packages.\n"
     ]
    }
   ],
   "source": [
    "%run ../Basic_Models/Model_Selection.ipynb"
   ]
  },
  {
   "cell_type": "code",
   "execution_count": 205,
   "id": "9fdc5bf6-a389-47dc-9aba-3fd6040a376c",
   "metadata": {},
   "outputs": [],
   "source": [
    "#loading the training dataset \n",
    "train_path = Path(\"../Data/premierleague_team_data.csv\")\n",
    "matches = pd.read_csv(train_path)\n",
    "\n",
    "#loading the testing data \n",
    "test_path = Path(\"../Data/premierleague_test_team_data.csv\")\n",
    "test_matches = pd.read_csv(test_path)"
   ]
  },
  {
   "cell_type": "code",
   "execution_count": 206,
   "id": "dc7f0daa-8f58-4ad2-b701-7efebb45cc73",
   "metadata": {},
   "outputs": [],
   "source": [
    "#loading the training dataset with rank\n",
    "train_path = Path(\"../Data/premierleague_rank_team_data.csv\")\n",
    "new_matches = pd.read_csv(train_path)\n",
    "\n",
    "#loading the testing data with rank\n",
    "test_path = Path(\"../Data/premierleague_rank_test_team_data.csv\")\n",
    "new_test_matches = pd.read_csv(test_path)"
   ]
  },
  {
   "cell_type": "code",
   "execution_count": 207,
   "id": "634cc42d-2f92-4fdf-8a50-272a0ab218ea",
   "metadata": {},
   "outputs": [],
   "source": [
    " process_data(matches, test_matches)"
   ]
  },
  {
   "cell_type": "code",
   "execution_count": 208,
   "id": "45cd73da-9ea4-4029-9545-3894179360bc",
   "metadata": {},
   "outputs": [],
   "source": [
    " process_data(new_matches,new_test_matches)"
   ]
  },
  {
   "cell_type": "markdown",
   "id": "839a8c7f-ef3a-41cc-ab29-c0a771bc4996",
   "metadata": {},
   "source": [
    "# Importance of Training Accuracy \n",
    "\n",
    "Training accuracy measures how well a machine learning model fits the training data. It is important to check training accuracy for the following reasons:\n",
    "\n",
    "1. **Detecting Underfitting**  \n",
    "   - If the training accuracy is **too low**, it means the model is **not learning enough** patterns from the data.  \n",
    "   - This could be due to an **overly simple model**, insufficient features, or poor hyperparameters.\n",
    "\n",
    "2. **Ensuring Model Competency**  \n",
    "   - A model with **reasonable training accuracy** ensures that it has successfully learned meaningful patterns from the dataset.  \n",
    "   - If the model cannot achieve high accuracy on the training data, it is unlikely to perform well on new data.\n",
    "\n",
    "3. **Providing a Baseline for Comparison**  \n",
    "   - Training accuracy helps us **compare** with testing accuracy to detect **overfitting**.  \n",
    "   - If training accuracy is significantly higher than testing accuracy, the model might be **memorizing** rather than **generalizing**.\n",
    "\n",
    "💡 **Key Insight**: While high training accuracy is desirable, it should not be the sole indicator of a good model. We must also check testing accuracy to ensure real-world performance."
   ]
  },
  {
   "cell_type": "markdown",
   "id": "6e2a6079-0fb6-4195-aa95-ea1ed703ab52",
   "metadata": {},
   "source": [
    "# Models with Baseline Predictors"
   ]
  },
  {
   "cell_type": "code",
   "execution_count": 157,
   "id": "64346bae-3ad7-45c8-bf9a-82700e59e42f",
   "metadata": {},
   "outputs": [
    {
     "name": "stdout",
     "output_type": "stream",
     "text": [
      "Best C: 1.274275 with Accuracy: 0.6187\n",
      "Best Model Per Year (by Accuracy):\n",
      "                 Model  Year  Precision  Accuracy\n",
      "0  K-Nearest Neighbors  2013   0.681445  0.689474\n",
      "1  K-Nearest Neighbors  2014   0.626296  0.642105\n",
      "2  K-Nearest Neighbors  2015   0.637908  0.655263\n",
      "3  K-Nearest Neighbors  2016   0.664583  0.674603\n",
      "4  K-Nearest Neighbors  2017   0.676626  0.678304\n",
      "5  K-Nearest Neighbors  2018   0.643849  0.657895\n",
      "\n",
      "Best Model Per Year (by Precision):\n",
      "                           Model  Year  Precision  Accuracy\n",
      "6   Linear Discriminant Analysis  2013   0.764024  0.618421\n",
      "7   Linear Discriminant Analysis  2014   0.762509  0.611842\n",
      "8   Linear Discriminant Analysis  2015   0.765625  0.625000\n",
      "9   Linear Discriminant Analysis  2016   0.765791  0.625661\n",
      "10  Linear Discriminant Analysis  2017   0.764931  0.622195\n",
      "11  Linear Discriminant Analysis  2018   0.765808  0.625731\n",
      "\n",
      "Overall Best Model (by Accuracy):\n",
      "Model: K-Nearest Neighbors, Avg Precision: 0.6551, Avg Accuracy: 0.6663\n",
      "\n",
      "Overall Best Model (by Precision):\n",
      "Model: Linear Discriminant Analysis, Avg Precision: 0.7648, Avg Accuracy: 0.6215\n"
     ]
    }
   ],
   "source": [
    "best_basic_model_baseline(matches,matches)"
   ]
  },
  {
   "cell_type": "code",
   "execution_count": 158,
   "id": "f4d208c3-77a9-44ea-b3a2-7a6f79b2360e",
   "metadata": {},
   "outputs": [
    {
     "name": "stdout",
     "output_type": "stream",
     "text": [
      "Best ccp_alpha: 0.000865 with Accuracy: 0.6453\n",
      "Best ccp_alpha: 0.000865 with Accuracy: 0.6453\n",
      "Best ccp_alpha: 0.000865 with Accuracy: 0.6453\n",
      "Best ccp_alpha: 0.000865 with Accuracy: 0.6453\n",
      "Best Model Per Year (by Accuracy):\n",
      "            Model  Year  Precision  Accuracy\n",
      "18  Random Forest  2013   0.748812  0.752632\n",
      "19  Random Forest  2014   0.701010  0.706579\n",
      "20  Random Forest  2015   0.695327  0.701316\n",
      "21  Random Forest  2016   0.722408  0.723545\n",
      "22  Random Forest  2017   0.729307  0.726933\n",
      "23  Random Forest  2018   0.693971  0.695906\n",
      "\n",
      "Best Model Per Year (by Precision):\n",
      "            Model  Year  Precision  Accuracy\n",
      "18  Random Forest  2013   0.748812  0.752632\n",
      "19  Random Forest  2014   0.701010  0.706579\n",
      "20  Random Forest  2015   0.695327  0.701316\n",
      "21  Random Forest  2016   0.722408  0.723545\n",
      "22  Random Forest  2017   0.729307  0.726933\n",
      "23  Random Forest  2018   0.693971  0.695906\n",
      "\n",
      "Overall Best Model (by Accuracy):\n",
      "Model: Random Forest, Avg Precision: 0.7151, Avg Accuracy: 0.7178\n",
      "\n",
      "Overall Best Model (by Precision):\n",
      "Model: Random Forest, Avg Precision: 0.7151, Avg Accuracy: 0.7178\n"
     ]
    }
   ],
   "source": [
    "best_tree_model_baseline(matches,matches)"
   ]
  },
  {
   "cell_type": "markdown",
   "id": "e081d972-9d8c-43b2-b636-1245c350e468",
   "metadata": {},
   "source": [
    "# Models with Baseline Predictors + Rolling Predictors"
   ]
  },
  {
   "cell_type": "code",
   "execution_count": 209,
   "id": "849829c3-5e6c-45df-86c6-1b0dadb0830b",
   "metadata": {},
   "outputs": [
    {
     "name": "stdout",
     "output_type": "stream",
     "text": [
      "Best C: 0.033598 with Accuracy: 0.6471\n",
      "Best Model Per Year (by Accuracy):\n",
      "                 Model  Year  Precision  Accuracy\n",
      "0  K-Nearest Neighbors  2013   0.769179  0.742105\n",
      "1  K-Nearest Neighbors  2014   0.779157  0.753947\n",
      "2  K-Nearest Neighbors  2015   0.767172  0.743421\n",
      "3  K-Nearest Neighbors  2016   0.760372  0.747354\n",
      "4  K-Nearest Neighbors  2017   0.751179  0.729426\n",
      "5  K-Nearest Neighbors  2018   0.756499  0.733918\n",
      "\n",
      "Best Model Per Year (by Precision):\n",
      "                 Model  Year  Precision  Accuracy\n",
      "0  K-Nearest Neighbors  2013   0.769179  0.742105\n",
      "1  K-Nearest Neighbors  2014   0.779157  0.753947\n",
      "2  K-Nearest Neighbors  2015   0.767172  0.743421\n",
      "3  K-Nearest Neighbors  2016   0.760372  0.747354\n",
      "4  K-Nearest Neighbors  2017   0.751179  0.729426\n",
      "5  K-Nearest Neighbors  2018   0.756499  0.733918\n",
      "\n",
      "Overall Best Model (by Accuracy):\n",
      "Model: K-Nearest Neighbors, Avg Precision: 0.7639, Avg Accuracy: 0.7417\n",
      "\n",
      "Overall Best Model (by Precision):\n",
      "Model: K-Nearest Neighbors, Avg Precision: 0.7639, Avg Accuracy: 0.7417\n"
     ]
    }
   ],
   "source": [
    "best_basic_model_rolling(matches,matches)"
   ]
  },
  {
   "cell_type": "code",
   "execution_count": 162,
   "id": "11393b47-8278-4cff-b3cb-aa1900a4a84d",
   "metadata": {},
   "outputs": [
    {
     "name": "stdout",
     "output_type": "stream",
     "text": [
      "Best ccp_alpha: 0.001632 with Accuracy: 0.6397\n",
      "Best ccp_alpha: 0.001632 with Accuracy: 0.6397\n",
      "Best ccp_alpha: 0.001632 with Accuracy: 0.6397\n",
      "Best Model Per Year (by Accuracy):\n",
      "     Model  Year  Precision  Accuracy  Samples\n",
      "0  Bagging  2013   0.668365  0.663158      NaN\n",
      "1  Bagging  2014   0.674302  0.672368      NaN\n",
      "2  Bagging  2015   0.669445  0.678947      NaN\n",
      "3  Bagging  2016   0.666513  0.677249      NaN\n",
      "4  Bagging  2017   0.717578  0.713217      NaN\n",
      "5  Bagging  2018   0.698057  0.690058      NaN\n",
      "\n",
      "Best Model Per Year (by Precision):\n",
      "                  Model  Year  Precision  Accuracy  Samples\n",
      "17        Random Forest  2013   0.676058  0.634211      NaN\n",
      "12  Classification Tree  2014   0.687369  0.667105      NaN\n",
      "2               Bagging  2015   0.669445  0.678947      NaN\n",
      "3               Bagging  2016   0.666513  0.677249      NaN\n",
      "4               Bagging  2017   0.717578  0.713217      NaN\n",
      "5               Bagging  2018   0.698057  0.690058      NaN\n",
      "\n",
      "Overall Best Model (by Accuracy):\n",
      "Model: Bagging, Avg Precision: 0.6824, Avg Accuracy: 0.6825\n",
      "\n",
      "Overall Best Model (by Precision):\n",
      "Model: Bagging, Avg Precision: 0.6824, Avg Accuracy: 0.6825\n"
     ]
    }
   ],
   "source": [
    "best_tree_model_rollling(matches,matches)"
   ]
  },
  {
   "cell_type": "markdown",
   "id": "1c53495e-b0f6-476d-9c18-32c3564060da",
   "metadata": {},
   "source": [
    "# Models with Full Set Predictors"
   ]
  },
  {
   "cell_type": "code",
   "execution_count": 166,
   "id": "a806f90b-9592-4001-98c5-4332b89f5b62",
   "metadata": {},
   "outputs": [
    {
     "name": "stdout",
     "output_type": "stream",
     "text": [
      "Best C: 2.335721 with Accuracy: 0.6711\n",
      "Best Model Per Year (by Accuracy):\n",
      "                              Model  Year  Precision  Accuracy\n",
      "0               K-Nearest Neighbors  2013   0.688614  0.694737\n",
      "1               K-Nearest Neighbors  2014   0.693901  0.694737\n",
      "2               K-Nearest Neighbors  2015   0.676749  0.681579\n",
      "21  Quadratic Discriminant Analysis  2016   0.696251  0.702381\n",
      "4               K-Nearest Neighbors  2017   0.710862  0.706983\n",
      "11     Linear Discriminant Analysis  2018   0.673066  0.684211\n",
      "\n",
      "Best Model Per Year (by Precision):\n",
      "                              Model  Year  Precision  Accuracy\n",
      "0               K-Nearest Neighbors  2013   0.688614  0.694737\n",
      "1               K-Nearest Neighbors  2014   0.693901  0.694737\n",
      "2               K-Nearest Neighbors  2015   0.676749  0.681579\n",
      "21  Quadratic Discriminant Analysis  2016   0.696251  0.702381\n",
      "4               K-Nearest Neighbors  2017   0.710862  0.706983\n",
      "11     Linear Discriminant Analysis  2018   0.673066  0.684211\n",
      "\n",
      "Overall Best Model (by Accuracy):\n",
      "Model: K-Nearest Neighbors, Avg Precision: 0.6879, Avg Accuracy: 0.6907\n",
      "\n",
      "Overall Best Model (by Precision):\n",
      "Model: K-Nearest Neighbors, Avg Precision: 0.6879, Avg Accuracy: 0.6907\n"
     ]
    }
   ],
   "source": [
    " best_basic_model_full(new_matches,new_matches)"
   ]
  },
  {
   "cell_type": "code",
   "execution_count": 164,
   "id": "13f2c11c-e0ee-406b-add5-789de418d21b",
   "metadata": {},
   "outputs": [
    {
     "name": "stdout",
     "output_type": "stream",
     "text": [
      "Best ccp_alpha: 0.001282 with Accuracy: 0.6576\n",
      "Best ccp_alpha: 0.001282 with Accuracy: 0.6576\n",
      "Best ccp_alpha: 0.001282 with Accuracy: 0.6576\n",
      "Best Model Per Year (by Accuracy):\n",
      "     Model  Year  Precision  Accuracy  Samples\n",
      "0  Bagging  2013   0.666423  0.676316      NaN\n",
      "1  Bagging  2014   0.727299  0.730263      NaN\n",
      "2  Bagging  2015   0.710227  0.717105      NaN\n",
      "3  Bagging  2016   0.740196  0.744709      NaN\n",
      "4  Bagging  2017   0.742344  0.744389      NaN\n",
      "5  Bagging  2018   0.720639  0.725146      NaN\n",
      "\n",
      "Best Model Per Year (by Precision):\n",
      "     Model  Year  Precision  Accuracy  Samples\n",
      "0  Bagging  2013   0.666423  0.676316      NaN\n",
      "1  Bagging  2014   0.727299  0.730263      NaN\n",
      "2  Bagging  2015   0.710227  0.717105      NaN\n",
      "3  Bagging  2016   0.740196  0.744709      NaN\n",
      "4  Bagging  2017   0.742344  0.744389      NaN\n",
      "5  Bagging  2018   0.720639  0.725146      NaN\n",
      "\n",
      "Overall Best Model (by Accuracy):\n",
      "Model: Bagging, Avg Precision: 0.7179, Avg Accuracy: 0.7230\n",
      "\n",
      "Overall Best Model (by Precision):\n",
      "Model: Bagging, Avg Precision: 0.7179, Avg Accuracy: 0.7230\n"
     ]
    }
   ],
   "source": [
    "best_tree_model_full(new_matches,new_matches)"
   ]
  },
  {
   "cell_type": "markdown",
   "id": "c47d3e4e-ea01-499e-9d9a-a2e04a649760",
   "metadata": {},
   "source": [
    "# Importance of Checking Testing Accuracy\n",
    "\n",
    "Testing accuracy measures how well a machine learning model performs on **unseen** data. It is crucial to check testing accuracy for the following reasons:\n",
    "\n",
    "1. **Evaluating Generalization**  \n",
    "   - The primary goal of machine learning is to create models that **generalize well** to new data.  \n",
    "   - A high testing accuracy indicates that the model can make reliable predictions on unseen samples.\n",
    "\n",
    "2. **Detecting Overfitting**  \n",
    "   - If the training accuracy is high but the testing accuracy is low, it suggests **overfitting**.  \n",
    "   - Overfitting occurs when the model learns **specific details** of the training data rather than general patterns, making it unreliable for new data.\n",
    "\n",
    "3. **Validating Model Performance**  \n",
    "   - A model is only useful if it performs well on real-world data.  \n",
    "   - Testing accuracy gives us a **realistic expectation** of how the model will behave when deployed.\n",
    "\n",
    "4. **Comparing Different Models**  \n",
    "   - By evaluating testing accuracy across different models, we can select the best model for **real-world applications**.  \n",
    "   - The model with the highest **testing accuracy and precision** is often the best choice.\n",
    "\n",
    "💡 **Key Insight**: A good model should have **both high training and testing accuracy**. A balance between these ensures that the model is neither too simple (underfitting) nor too complex (overfitting).\n"
   ]
  },
  {
   "cell_type": "markdown",
   "id": "94f6a26f-4fd3-440d-9403-c413852ec734",
   "metadata": {},
   "source": [
    "# Models with Baseline Predictors"
   ]
  },
  {
   "cell_type": "code",
   "execution_count": 210,
   "id": "c8b2b6df-2765-4d13-8d1b-356305f3b2f8",
   "metadata": {},
   "outputs": [
    {
     "name": "stdout",
     "output_type": "stream",
     "text": [
      "Best C: 1.274275 with Accuracy: 0.6187\n",
      "Best Model Per Year (by Accuracy):\n",
      "                              Model  Year  Precision  Accuracy\n",
      "5      Linear Discriminant Analysis  2019   0.764545  0.620603\n",
      "16  Quadratic Discriminant Analysis  2020   0.641389  0.626488\n",
      "2               K-Nearest Neighbors  2021   0.596386  0.621324\n",
      "3               K-Nearest Neighbors  2022   0.608177  0.626039\n",
      "4               K-Nearest Neighbors  2023   0.617145  0.636574\n",
      "\n",
      "Best Model Per Year (by Precision):\n",
      "                              Model  Year  Precision  Accuracy\n",
      "5      Linear Discriminant Analysis  2019   0.764545  0.620603\n",
      "6      Linear Discriminant Analysis  2020   0.765255  0.623512\n",
      "7      Linear Discriminant Analysis  2021   0.762989  0.613971\n",
      "18  Quadratic Discriminant Analysis  2022   0.762098  0.608033\n",
      "9      Linear Discriminant Analysis  2023   0.763396  0.615741\n",
      "\n",
      "Overall Best Model (by Accuracy):\n",
      "Model: Quadratic Discriminant Analysis, Avg Precision: 0.6049, Avg Accuracy: 0.6160\n",
      "\n",
      "Overall Best Model (by Precision):\n",
      "Model: Linear Discriminant Analysis, Avg Precision: 0.7635, Avg Accuracy: 0.6158\n"
     ]
    }
   ],
   "source": [
    "best_basic_model_baseline(matches,test_matches)"
   ]
  },
  {
   "cell_type": "code",
   "execution_count": 211,
   "id": "c3c505a7-4442-491e-a330-8b3bf80f707a",
   "metadata": {},
   "outputs": [
    {
     "name": "stdout",
     "output_type": "stream",
     "text": [
      "Best ccp_alpha: 0.000865 with Accuracy: 0.6453\n",
      "Best ccp_alpha: 0.000865 with Accuracy: 0.6453\n",
      "Best ccp_alpha: 0.000865 with Accuracy: 0.6453\n",
      "Best ccp_alpha: 0.000865 with Accuracy: 0.6453\n",
      "Best Model Per Year (by Accuracy):\n",
      "      Model  Year  Precision  Accuracy\n",
      "5  Boosting  2019   0.537949  0.605528\n",
      "6  Boosting  2020   0.596896  0.627976\n",
      "7  Boosting  2021   0.670648  0.637255\n",
      "8  Boosting  2022   0.649986  0.624654\n",
      "9  Boosting  2023   0.624398  0.627315\n",
      "\n",
      "Best Model Per Year (by Precision):\n",
      "      Model  Year  Precision  Accuracy\n",
      "0   Bagging  2019   0.579199  0.600503\n",
      "6  Boosting  2020   0.596896  0.627976\n",
      "7  Boosting  2021   0.670648  0.637255\n",
      "8  Boosting  2022   0.649986  0.624654\n",
      "9  Boosting  2023   0.624398  0.627315\n",
      "\n",
      "Overall Best Model (by Accuracy):\n",
      "Model: Boosting, Avg Precision: 0.6160, Avg Accuracy: 0.6245\n",
      "\n",
      "Overall Best Model (by Precision):\n",
      "Model: Boosting, Avg Precision: 0.6160, Avg Accuracy: 0.6245\n"
     ]
    }
   ],
   "source": [
    "best_tree_model_baseline(matches,test_matches)"
   ]
  },
  {
   "cell_type": "markdown",
   "id": "ebad7e80-23e5-41d1-8861-cfc85f4ad23e",
   "metadata": {},
   "source": [
    "# Models with Baseline Predictors + Rolling Predictors"
   ]
  },
  {
   "cell_type": "code",
   "execution_count": 213,
   "id": "58c8673a-dd21-459d-acef-7b0a5cb01727",
   "metadata": {},
   "outputs": [
    {
     "name": "stdout",
     "output_type": "stream",
     "text": [
      "Best C: 0.033598 with Accuracy: 0.6471\n",
      "Best Model Per Year (by Accuracy):\n",
      "                              Model  Year  Precision  Accuracy\n",
      "5      Linear Discriminant Analysis  2019   0.635905  0.650754\n",
      "1               K-Nearest Neighbors  2020   0.602017  0.630952\n",
      "17  Quadratic Discriminant Analysis  2021   0.611925  0.632353\n",
      "13              Logistic Regression  2022   0.633038  0.624654\n",
      "9      Linear Discriminant Analysis  2023   0.664998  0.664352\n",
      "\n",
      "Best Model Per Year (by Precision):\n",
      "                              Model  Year  Precision  Accuracy\n",
      "5      Linear Discriminant Analysis  2019   0.635905  0.650754\n",
      "1               K-Nearest Neighbors  2020   0.602017  0.630952\n",
      "17  Quadratic Discriminant Analysis  2021   0.611925  0.632353\n",
      "13              Logistic Regression  2022   0.633038  0.624654\n",
      "9      Linear Discriminant Analysis  2023   0.664998  0.664352\n",
      "\n",
      "Overall Best Model (by Accuracy):\n",
      "Model: Linear Discriminant Analysis, Avg Precision: 0.6185, Avg Accuracy: 0.6372\n",
      "\n",
      "Overall Best Model (by Precision):\n",
      "Model: Linear Discriminant Analysis, Avg Precision: 0.6185, Avg Accuracy: 0.6372\n"
     ]
    }
   ],
   "source": [
    "best_basic_model_rolling(matches,test_matches)"
   ]
  },
  {
   "cell_type": "code",
   "execution_count": 214,
   "id": "a83b3be8-b458-4324-8fae-71570b48ff68",
   "metadata": {},
   "outputs": [
    {
     "name": "stdout",
     "output_type": "stream",
     "text": [
      "Best ccp_alpha: 0.001632 with Accuracy: 0.6397\n",
      "Best ccp_alpha: 0.001632 with Accuracy: 0.6397\n",
      "Best ccp_alpha: 0.001632 with Accuracy: 0.6397\n",
      "Best Model Per Year (by Accuracy):\n",
      "            Model  Year  Precision  Accuracy  Samples\n",
      "15  Random Forest  2019   0.638640  0.650754      NaN\n",
      "16  Random Forest  2020   0.592831  0.626488      NaN\n",
      "2         Bagging  2021   0.625986  0.642157      NaN\n",
      "3         Bagging  2022   0.630162  0.642659      NaN\n",
      "4         Bagging  2023   0.650182  0.662037      NaN\n",
      "\n",
      "Best Model Per Year (by Precision):\n",
      "            Model  Year  Precision  Accuracy  Samples\n",
      "15  Random Forest  2019   0.638640  0.650754      NaN\n",
      "6        Boosting  2020   0.609598  0.619048    672.0\n",
      "2         Bagging  2021   0.625986  0.642157      NaN\n",
      "3         Bagging  2022   0.630162  0.642659      NaN\n",
      "19  Random Forest  2023   0.653098  0.652778      NaN\n",
      "\n",
      "Overall Best Model (by Accuracy):\n",
      "Model: Bagging, Avg Precision: 0.6241, Avg Accuracy: 0.6416\n",
      "\n",
      "Overall Best Model (by Precision):\n",
      "Model: Bagging, Avg Precision: 0.6241, Avg Accuracy: 0.6416\n"
     ]
    }
   ],
   "source": [
    "best_tree_model_rollling(matches,test_matches)"
   ]
  },
  {
   "cell_type": "markdown",
   "id": "205122a0-97b2-4e0c-83dd-5c230d87e098",
   "metadata": {},
   "source": [
    "# Models with Full Set Predictors"
   ]
  },
  {
   "cell_type": "code",
   "execution_count": 216,
   "id": "e6189521-c32c-4318-88a1-0cde92a31a68",
   "metadata": {},
   "outputs": [
    {
     "name": "stdout",
     "output_type": "stream",
     "text": [
      "Best C: 2.335721 with Accuracy: 0.6711\n",
      "Best Model Per Year (by Accuracy):\n",
      "                              Model  Year  Precision  Accuracy\n",
      "5      Linear Discriminant Analysis  2019   0.664671  0.675879\n",
      "16  Quadratic Discriminant Analysis  2020   0.645934  0.659226\n",
      "17  Quadratic Discriminant Analysis  2021   0.651375  0.662990\n",
      "18  Quadratic Discriminant Analysis  2022   0.657750  0.666205\n",
      "4               K-Nearest Neighbors  2023   0.639220  0.652778\n",
      "\n",
      "Best Model Per Year (by Precision):\n",
      "                              Model  Year  Precision  Accuracy\n",
      "5      Linear Discriminant Analysis  2019   0.664671  0.675879\n",
      "16  Quadratic Discriminant Analysis  2020   0.645934  0.659226\n",
      "17  Quadratic Discriminant Analysis  2021   0.651375  0.662990\n",
      "13              Logistic Regression  2022   0.660314  0.657895\n",
      "4               K-Nearest Neighbors  2023   0.639220  0.652778\n",
      "\n",
      "Overall Best Model (by Accuracy):\n",
      "Model: Quadratic Discriminant Analysis, Avg Precision: 0.6437, Avg Accuracy: 0.6558\n",
      "\n",
      "Overall Best Model (by Precision):\n",
      "Model: Quadratic Discriminant Analysis, Avg Precision: 0.6437, Avg Accuracy: 0.6558\n"
     ]
    }
   ],
   "source": [
    " best_basic_model_full(new_matches,new_test_matches)"
   ]
  },
  {
   "cell_type": "code",
   "execution_count": 215,
   "id": "74cee9ee-54aa-4f5b-ba3d-907edd39e8a6",
   "metadata": {},
   "outputs": [
    {
     "name": "stdout",
     "output_type": "stream",
     "text": [
      "Best ccp_alpha: 0.001282 with Accuracy: 0.6576\n",
      "Best ccp_alpha: 0.001282 with Accuracy: 0.6576\n",
      "Best ccp_alpha: 0.001282 with Accuracy: 0.6576\n",
      "Best Model Per Year (by Accuracy):\n",
      "                  Model  Year  Precision  Accuracy  Samples\n",
      "15        Random Forest  2019   0.673836  0.683417      NaN\n",
      "16        Random Forest  2020   0.649283  0.663690      NaN\n",
      "17        Random Forest  2021   0.632249  0.647059      NaN\n",
      "3               Bagging  2022   0.671236  0.678670      NaN\n",
      "14  Classification Tree  2023   0.630183  0.641204      NaN\n",
      "\n",
      "Best Model Per Year (by Precision):\n",
      "                  Model  Year  Precision  Accuracy  Samples\n",
      "15        Random Forest  2019   0.673836  0.683417      NaN\n",
      "16        Random Forest  2020   0.649283  0.663690      NaN\n",
      "2               Bagging  2021   0.632512  0.645833      NaN\n",
      "3               Bagging  2022   0.671236  0.678670      NaN\n",
      "14  Classification Tree  2023   0.630183  0.641204      NaN\n",
      "\n",
      "Overall Best Model (by Accuracy):\n",
      "Model: Random Forest, Avg Precision: 0.6464, Avg Accuracy: 0.6593\n",
      "\n",
      "Overall Best Model (by Precision):\n",
      "Model: Random Forest, Avg Precision: 0.6464, Avg Accuracy: 0.6593\n"
     ]
    }
   ],
   "source": [
    "best_tree_model_full(new_matches,new_test_matches)"
   ]
  }
 ],
 "metadata": {
  "kernelspec": {
   "display_name": "Python 3 (ipykernel)",
   "language": "python",
   "name": "python3"
  },
  "language_info": {
   "codemirror_mode": {
    "name": "ipython",
    "version": 3
   },
   "file_extension": ".py",
   "mimetype": "text/x-python",
   "name": "python",
   "nbconvert_exporter": "python",
   "pygments_lexer": "ipython3",
   "version": "3.12.3"
  }
 },
 "nbformat": 4,
 "nbformat_minor": 5
}
