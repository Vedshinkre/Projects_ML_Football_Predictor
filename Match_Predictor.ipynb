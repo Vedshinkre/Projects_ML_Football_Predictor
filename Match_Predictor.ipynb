{
 "cells": [
  {
   "cell_type": "code",
   "execution_count": 29,
   "id": "02986de0-943a-4fd7-854d-5a7592f086d9",
   "metadata": {},
   "outputs": [],
   "source": [
    "import pandas as pd\n",
    "from sklearn.ensemble import RandomForestClassifier\n",
    "from sklearn.metrics import accuracy_score, precision_score"
   ]
  },
  {
   "cell_type": "code",
   "execution_count": 30,
   "id": "df45c223-33d1-42f6-a0e4-78827eeca076",
   "metadata": {},
   "outputs": [
    {
     "name": "stdout",
     "output_type": "stream",
     "text": [
      "Requirement already satisfied: scikit-learn in c:\\users\\vedsh\\miniconda3\\lib\\site-packages (1.6.0)\n",
      "Requirement already satisfied: numpy>=1.19.5 in c:\\users\\vedsh\\miniconda3\\lib\\site-packages (from scikit-learn) (2.2.1)\n",
      "Requirement already satisfied: scipy>=1.6.0 in c:\\users\\vedsh\\miniconda3\\lib\\site-packages (from scikit-learn) (1.15.0)\n",
      "Requirement already satisfied: joblib>=1.2.0 in c:\\users\\vedsh\\miniconda3\\lib\\site-packages (from scikit-learn) (1.4.2)\n",
      "Requirement already satisfied: threadpoolctl>=3.1.0 in c:\\users\\vedsh\\miniconda3\\lib\\site-packages (from scikit-learn) (3.5.0)\n",
      "Note: you may need to restart the kernel to use updated packages.\n"
     ]
    }
   ],
   "source": [
    "pip install scikit-learn"
   ]
  },
  {
   "cell_type": "code",
   "execution_count": 31,
   "id": "55517a54-0690-44b1-adbd-924770af5045",
   "metadata": {},
   "outputs": [],
   "source": [
    "matches = pd.read_csv(\"premierleague_team_data.csv\")"
   ]
  },
  {
   "cell_type": "code",
   "execution_count": 32,
   "id": "3766b7c7-337f-4308-8934-c8a51e8ed47d",
   "metadata": {},
   "outputs": [],
   "source": [
    "test_matches = pd.read_csv(\"premierleague_test_team_data.csv\")"
   ]
  },
  {
   "cell_type": "code",
   "execution_count": 33,
   "id": "d42db90c-15e7-492e-83ee-0bcca87ac4f4",
   "metadata": {},
   "outputs": [
    {
     "data": {
      "text/plain": [
       "Team\n",
       "ManchesterCity           190\n",
       "ManchesterUnited         190\n",
       "TottenhamHotspur         190\n",
       "Liverpool                190\n",
       "Chelsea                  190\n",
       "Arsenal                  190\n",
       "Everton                  190\n",
       "CrystalPalace            190\n",
       "Southampton              190\n",
       "SwanseaCity              190\n",
       "StokeCity                190\n",
       "WestHamUnited            190\n",
       "WestBromwichAlbion       190\n",
       "NewcastleUnited          152\n",
       "LeicesterCity            152\n",
       "Burnley                  114\n",
       "Bournemouth              114\n",
       "Watford                  114\n",
       "Sunderland               114\n",
       "HullCity                 114\n",
       "AstonVilla               114\n",
       "NorwichCity               76\n",
       "BrightonandHoveAlbion     38\n",
       "HuddersfieldTown          38\n",
       "Middlesbrough             38\n",
       "QueensParkRangers         38\n",
       "Fulham                    38\n",
       "CardiffCity               38\n",
       "Name: count, dtype: int64"
      ]
     },
     "execution_count": 33,
     "metadata": {},
     "output_type": "execute_result"
    }
   ],
   "source": [
    "matches[\"Team\"].value_counts()"
   ]
  },
  {
   "cell_type": "code",
   "execution_count": 34,
   "id": "1a0f797d-c447-4edf-97e6-67e50aca444f",
   "metadata": {},
   "outputs": [],
   "source": [
    "matches[\"Date\"] = pd.to_datetime(matches[\"Date\"])"
   ]
  },
  {
   "cell_type": "code",
   "execution_count": 35,
   "id": "82819756-d0b9-4447-9d32-9ab79acadfd9",
   "metadata": {},
   "outputs": [],
   "source": [
    "test_matches[\"Date\"] = pd.to_datetime(test_matches[\"Date\"])"
   ]
  },
  {
   "cell_type": "code",
   "execution_count": 36,
   "id": "76ce6aa5-133b-46d8-b0ab-138e6ddca004",
   "metadata": {},
   "outputs": [],
   "source": [
    " matches[\"Venue_code\"] = matches[\"Venue\"].astype(\"category\").cat.codes"
   ]
  },
  {
   "cell_type": "code",
   "execution_count": 37,
   "id": "6ea429ea-7580-4853-b55e-32e1eb6b3c5b",
   "metadata": {},
   "outputs": [],
   "source": [
    "test_matches[\"Venue_code\"] = test_matches[\"Venue\"].astype(\"category\").cat.codes"
   ]
  },
  {
   "cell_type": "code",
   "execution_count": 38,
   "id": "a7d72a41-857b-461c-9521-779aa49a979f",
   "metadata": {},
   "outputs": [],
   "source": [
    "matches[\"Opp_code\"] = matches[\"Opponent\"].astype(\"category\").cat.codes "
   ]
  },
  {
   "cell_type": "code",
   "execution_count": 39,
   "id": "be689b01-bbaa-4263-8e00-83c28453146a",
   "metadata": {},
   "outputs": [],
   "source": [
    "test_matches[\"Opp_code\"] = test_matches[\"Opponent\"].astype(\"category\").cat.codes "
   ]
  },
  {
   "cell_type": "code",
   "execution_count": 40,
   "id": "a1e94975-41f1-449b-b4d8-eb03eba778b4",
   "metadata": {},
   "outputs": [],
   "source": [
    "matches[\"Hour\"] = matches[\"Time\"].str.replace(\":.+\", \"\", regex=True).fillna(\"0\").astype(\"int\")"
   ]
  },
  {
   "cell_type": "code",
   "execution_count": 41,
   "id": "38c3bdee-4e93-4810-9045-cfafb19cc729",
   "metadata": {},
   "outputs": [],
   "source": [
    "test_matches[\"Hour\"] = test_matches[\"Time\"].str.replace(\":.+\", \"\", regex=True).fillna(\"0\").astype(\"int\")"
   ]
  },
  {
   "cell_type": "code",
   "execution_count": 42,
   "id": "04cdc632-cabc-4500-bef6-6520bccce612",
   "metadata": {},
   "outputs": [],
   "source": [
    "matches[\"Day_code\"] = matches[\"Date\"].dt.dayofweek"
   ]
  },
  {
   "cell_type": "code",
   "execution_count": 43,
   "id": "68ee8910-31d6-4bb3-b9b9-2c9e2ebf30e9",
   "metadata": {},
   "outputs": [],
   "source": [
    "test_matches[\"Day_code\"] = test_matches[\"Date\"].dt.dayofweek"
   ]
  },
  {
   "cell_type": "code",
   "execution_count": 44,
   "id": "efbafb09-f35a-4614-ba2e-60f870c602b2",
   "metadata": {},
   "outputs": [],
   "source": [
    "matches[\"Target\"]=(matches[\"Result\"] == \"W\").astype(\"int\")"
   ]
  },
  {
   "cell_type": "code",
   "execution_count": 45,
   "id": "ada9a2a1-2688-4c10-92e9-8f17fd1395c2",
   "metadata": {},
   "outputs": [],
   "source": [
    "test_matches[\"Target\"]=(test_matches[\"Result\"] == \"W\").astype(\"int\")"
   ]
  },
  {
   "cell_type": "code",
   "execution_count": 48,
   "id": "bf89a69e-90d3-47b6-9ada-2a302bfa30ce",
   "metadata": {},
   "outputs": [
    {
     "name": "stdout",
     "output_type": "stream",
     "text": [
      "Metrics: Accuracy = 0.5875, Precision = 0.5730\n"
     ]
    }
   ],
   "source": [
    "# Load training and testing data\n",
    "train = matches\n",
    "test = test_matches\n",
    "\n",
    "# Sort data by date\n",
    "train = train.sort_values(by='Date')\n",
    "test = test.sort_values(by='Date')\n",
    "\n",
    "# Model training\n",
    "predictors = [\"Venue_code\", \"Opp_code\", \"Hour\", \"Day_code\"]\n",
    "rf = RandomForestClassifier(n_estimators=50, min_samples_split=10, random_state=1)\n",
    "rf.fit(train[predictors], train[\"Target\"])\n",
    "\n",
    "# Make predictions\n",
    "preds = rf.predict(test[predictors])\n",
    "    \n",
    "# Test the model on each yearly split\n",
    "results = []\n",
    "\n",
    " # Calculate metrics\n",
    "accuracy = accuracy_score(test[\"Target\"], preds)\n",
    "precision = precision_score(test[\"Target\"], preds, average=\"weighted\")\n",
    "print(f\"Metrics: Accuracy = {accuracy:.4f}, Precision = {precision:.4f}\")\n"
   ]
  },
  {
   "cell_type": "code",
   "execution_count": 61,
   "id": "756de0cc-8611-4ce3-99f7-e41b3d3feaec",
   "metadata": {},
   "outputs": [
    {
     "name": "stdout",
     "output_type": "stream",
     "text": [
      "Available years for testing data: [2019, 2020, 2021, 2022, 2023]\n",
      "Year 2019: Accuracy = 0.5980, Precision = 0.5796\n",
      "Year 2020: Accuracy = 0.5952, Precision = 0.5831\n",
      "Year 2021: Accuracy = 0.5784, Precision = 0.5616\n",
      "Year 2022: Accuracy = 0.5859, Precision = 0.5747\n",
      "Year 2023: Accuracy = 0.5856, Precision = 0.5699\n",
      "\n",
      "Overall Results:\n",
      "   Year  Accuracy  Precision\n",
      "0  2019  0.597990   0.579615\n",
      "1  2020  0.595238   0.583052\n",
      "2  2021  0.578431   0.561561\n",
      "3  2022  0.585873   0.574678\n",
      "4  2023  0.585648   0.569919\n"
     ]
    }
   ],
   "source": [
    "import pandas as pd\n",
    "from sklearn.ensemble import RandomForestClassifier\n",
    "from sklearn.metrics import accuracy_score, precision_score\n",
    "\n",
    "# Load training and testing data\n",
    "train = matches\n",
    "test = test_matches\n",
    "\n",
    "\n",
    "# Sort data by date\n",
    "train = train.sort_values(by='Date')\n",
    "test = test.sort_values(by='Date')\n",
    "\n",
    "# Create yearly splits for testing\n",
    "test_splits = {}\n",
    "for year in range(test['Date'].dt.year.min(), test['Date'].dt.year.max() + 1):\n",
    "    yearly_data = test[test['Date'].dt.year == year]\n",
    "    if not yearly_data.empty:\n",
    "        test_splits[year] = yearly_data\n",
    "\n",
    "# Output available years\n",
    "print(\"Available years for testing data:\", list(test_splits.keys()))\n",
    "\n",
    "# Model training\n",
    "predictors = [\"Venue_code\", \"Opp_code\", \"Hour\", \"Day_code\"]\n",
    "rf = RandomForestClassifier(n_estimators=50, min_samples_split=10, random_state=1)\n",
    "\n",
    "rf.fit(train[predictors], train[\"Target\"])\n",
    "\n",
    "# Test the model on each yearly split\n",
    "results = []\n",
    "for year, test_data in test_splits.items():\n",
    "    # Make predictions\n",
    "    preds = rf.predict(test_data[predictors])\n",
    "    \n",
    "    # Calculate metrics\n",
    "    accuracy = accuracy_score(test_data[\"Target\"], preds)\n",
    "    precision = precision_score(test_data[\"Target\"], preds, average=\"weighted\")\n",
    "    \n",
    "    # Store results\n",
    "    results.append({\"Year\": year, \"Accuracy\": accuracy, \"Precision\": precision})\n",
    "\n",
    "    print(f\"Year {year}: Accuracy = {accuracy:.4f}, Precision = {precision:.4f}\")\n",
    "\n",
    "# Convert results to DataFrame for better visualization\n",
    "results_df = pd.DataFrame(results)\n",
    "print(\"\\nOverall Results:\")\n",
    "print(results_df)"
   ]
  },
  {
   "cell_type": "code",
   "execution_count": 62,
   "id": "50d8ccdb-9106-4bbd-b0ca-b8bb8d5cda33",
   "metadata": {},
   "outputs": [],
   "source": [
    "grouped_matches = matches.groupby(\"Team\")"
   ]
  },
  {
   "cell_type": "code",
   "execution_count": 63,
   "id": "3e8340e1-4d0b-4f9a-9a6e-769c9c5f85e8",
   "metadata": {},
   "outputs": [],
   "source": [
    "grouped_test_matches = test_matches.groupby(\"Team\")"
   ]
  },
  {
   "cell_type": "code",
   "execution_count": 64,
   "id": "aba85672-be9f-46d3-9a4c-7a47ef339c84",
   "metadata": {},
   "outputs": [],
   "source": [
    "def rolling_averages(group, cols, new_cols):\n",
    "    # Sort the group by the \"Date\" column to ensure chronological order\n",
    "    group = group.sort_values(\"Date\")\n",
    "    \n",
    "    # Calculate rolling averages over a window of 3 rows, excluding the current row\n",
    "    # (e.g., for row N, it computes the average of rows N-1, N-2, and N-3)\n",
    "    rolling_stats = group[cols].rolling(3, closed='left').mean()\n",
    "    \n",
    "    # Assign the calculated rolling averages to new columns in the group\n",
    "    group[new_cols] = rolling_stats\n",
    "    \n",
    "    # Drop rows where the new rolling average columns contain NaN values\n",
    "    # (occurs when there aren't enough previous rows to calculate the average)\n",
    "    group = group.dropna(subset=new_cols)\n",
    "    \n",
    "    return group"
   ]
  },
  {
   "cell_type": "code",
   "execution_count": 65,
   "id": "54691979-4861-4d98-af35-ce120703f1cd",
   "metadata": {},
   "outputs": [],
   "source": [
    "cols = [ \"GF\",\"GA\",\"Sh\", \"SoT\", \"PK\", \"PKatt\"]\n",
    "new_cols = [f\"{c}_rolling\" for c in cols]"
   ]
  },
  {
   "cell_type": "code",
   "execution_count": 66,
   "id": "2580b17c-b1fa-40f1-8400-e877bec6e846",
   "metadata": {},
   "outputs": [
    {
     "data": {
      "text/plain": [
       "['GF_rolling',\n",
       " 'GA_rolling',\n",
       " 'Sh_rolling',\n",
       " 'SoT_rolling',\n",
       " 'PK_rolling',\n",
       " 'PKatt_rolling']"
      ]
     },
     "execution_count": 66,
     "metadata": {},
     "output_type": "execute_result"
    }
   ],
   "source": [
    "new_cols"
   ]
  },
  {
   "cell_type": "code",
   "execution_count": 67,
   "id": "8f5efbd8-fb13-4d5d-8cc0-a89318de623a",
   "metadata": {},
   "outputs": [],
   "source": [
    "results = []\n",
    "for team, group in matches.groupby(\"Team\"):\n",
    "    # Apply rolling averages to each group\n",
    "    result = rolling_averages(group, cols, new_cols)\n",
    "    results.append(result)\n",
    "\n",
    "# Concatenate all results into one DataFrame\n",
    "matches_rolling = pd.concat(results)"
   ]
  },
  {
   "cell_type": "code",
   "execution_count": 68,
   "id": "f9339129-7fa0-43aa-8fe5-74013015aaf2",
   "metadata": {},
   "outputs": [],
   "source": [
    "test_results = []\n",
    "for team, group in test_matches.groupby(\"Team\"):\n",
    "    # Apply rolling averages to each group\n",
    "    result = rolling_averages(group, cols, new_cols)\n",
    "    results.append(result)\n",
    "\n",
    "# Concatenate all results into one DataFrame\n",
    "test_matches_rolling = pd.concat(results)"
   ]
  },
  {
   "cell_type": "code",
   "execution_count": 69,
   "id": "946b269a-5216-48cc-ba71-8a75f3901acb",
   "metadata": {},
   "outputs": [],
   "source": [
    "matches_rolling.index = range(matches_rolling.shape[0])"
   ]
  },
  {
   "cell_type": "code",
   "execution_count": 70,
   "id": "f99f5a1d-d256-4451-bb4c-1bead11b7a2c",
   "metadata": {},
   "outputs": [],
   "source": [
    "test_matches_rolling.index = range(test_matches_rolling.shape[0])"
   ]
  },
  {
   "cell_type": "code",
   "execution_count": 71,
   "id": "bf1be66c-8f92-4abd-8914-451b6051fafe",
   "metadata": {},
   "outputs": [
    {
     "name": "stdout",
     "output_type": "stream",
     "text": [
      "\n",
      "Testing on year: 2019 with 398 matches.\n",
      "Year 2019: Precision = 0.7096, Accuracy = 0.7161\n",
      "\n",
      "Testing on year: 2020 with 672 matches.\n",
      "Year 2020: Precision = 0.6878, Accuracy = 0.6964\n",
      "\n",
      "Testing on year: 2021 with 816 matches.\n",
      "Year 2021: Precision = 0.6987, Accuracy = 0.7047\n",
      "\n",
      "Testing on year: 2022 with 722 matches.\n",
      "Year 2022: Precision = 0.6952, Accuracy = 0.7008\n",
      "\n",
      "Testing on year: 2023 with 432 matches.\n",
      "Year 2023: Precision = 0.7043, Accuracy = 0.7106\n",
      "\n",
      "Yearly Predictions and Metrics:\n",
      "      Precision  Accuracy\n",
      "Year                     \n",
      "2019   0.709591  0.716080\n",
      "2020   0.687821  0.696429\n",
      "2021   0.698709  0.704657\n",
      "2022   0.695169  0.700831\n",
      "2023   0.704331  0.710648\n"
     ]
    }
   ],
   "source": [
    "from sklearn.ensemble import RandomForestClassifier\n",
    "from sklearn.metrics import precision_score, accuracy_score\n",
    "import pandas as pd\n",
    "\n",
    "def calculate_rolling_features(df, columns, window_size):\n",
    "    for col in columns:\n",
    "        df[f\"{col}_rolling\"] = df[col].rolling(window=window_size, min_periods=1).mean()\n",
    "    return df\n",
    "\n",
    "def make_yearly_predictions_with_rolling(train, test, predictors, rolling_predictors):\n",
    "    train['Date'] = pd.to_datetime(train['Date'], errors='coerce')\n",
    "    test['Date'] = pd.to_datetime(test['Date'], errors='coerce')\n",
    "    train = train.dropna(subset=['Date']).sort_values(by='Date')\n",
    "    test = test.dropna(subset=['Date']).sort_values(by='Date')\n",
    "\n",
    "    all_predictors = predictors + rolling_predictors\n",
    "\n",
    "    yearly_results = []\n",
    "    for year in range(test['Date'].dt.year.min(), test['Date'].dt.year.max() + 1):\n",
    "        test_year = test[test['Date'].dt.year == year]\n",
    "        if not test_year.empty:\n",
    "            print(f\"\\nTesting on year: {year} with {len(test_year)} matches.\")\n",
    "            rf = RandomForestClassifier(n_estimators=50, min_samples_split=10, random_state=1)\n",
    "            rf.fit(train[all_predictors], train[\"Target\"])\n",
    "            preds = rf.predict(test_year[all_predictors])\n",
    "            precision = precision_score(test_year[\"Target\"], preds, average=\"weighted\")\n",
    "            accuracy = accuracy_score(test_year[\"Target\"], preds)\n",
    "            combined = pd.DataFrame({\n",
    "                \"Year\": year,\n",
    "                \"Actual\": test_year[\"Target\"],\n",
    "                \"Prediction\": preds,\n",
    "                \"Precision\": [precision] * len(test_year),\n",
    "                \"Accuracy\": [accuracy] * len(test_year)\n",
    "            })\n",
    "            yearly_results.append(combined)\n",
    "            print(f\"Year {year}: Precision = {precision:.4f}, Accuracy = {accuracy:.4f}\")\n",
    "\n",
    "    results = pd.concat(yearly_results, ignore_index=True)\n",
    "    return results\n",
    "\n",
    "\n",
    "train = matches\n",
    "test = test_matches\n",
    "\n",
    "# Define predictors\n",
    "static_predictors = [\"Venue_code\", \"Opp_code\", \"Hour\", \"Day_code\"]\n",
    "rolling_predictors = [\"GF_rolling\", \"GA_rolling\", \"Sh_rolling\", \"SoT_rolling\", \"PK_rolling\", \"PKatt_rolling\"]\n",
    "\n",
    "# Generate rolling features\n",
    "feature_columns = [\"GF\", \"GA\", \"Sh\", \"SoT\", \"PK\", \"PKatt\"]\n",
    "train = calculate_rolling_features(train, feature_columns, window_size=5)\n",
    "test = calculate_rolling_features(test, feature_columns, window_size=5)\n",
    "\n",
    "# Run the prediction function\n",
    "results = make_yearly_predictions_with_rolling(train, test, static_predictors, rolling_predictors)\n",
    "\n",
    "# Display results\n",
    "print(\"\\nYearly Predictions and Metrics:\")\n",
    "print(results.groupby(\"Year\")[[\"Precision\", \"Accuracy\"]].mean())\n",
    "\n"
   ]
  }
 ],
 "metadata": {
  "kernelspec": {
   "display_name": "Python 3 (ipykernel)",
   "language": "python",
   "name": "python3"
  },
  "language_info": {
   "codemirror_mode": {
    "name": "ipython",
    "version": 3
   },
   "file_extension": ".py",
   "mimetype": "text/x-python",
   "name": "python",
   "nbconvert_exporter": "python",
   "pygments_lexer": "ipython3",
   "version": "3.12.3"
  }
 },
 "nbformat": 4,
 "nbformat_minor": 5
}
